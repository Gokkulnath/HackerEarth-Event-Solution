{
 "cells": [
  {
   "cell_type": "code",
   "execution_count": 50,
   "metadata": {},
   "outputs": [],
   "source": [
    "import pandas as pd\n",
    "import numpy as np\n",
    "import os\n"
   ]
  },
  {
   "cell_type": "code",
   "execution_count": 2,
   "metadata": {},
   "outputs": [],
   "source": [
    "train_df =pd.read_csv('Dataset/Train.csv')\n",
    "test_df =pd.read_csv('Dataset/Test.csv')"
   ]
  },
  {
   "cell_type": "code",
   "execution_count": 3,
   "metadata": {},
   "outputs": [
    {
     "data": {
      "text/plain": [
       "{1: 'yes', 0: 'No'}"
      ]
     },
     "execution_count": 3,
     "metadata": {},
     "output_type": "execute_result"
    }
   ],
   "source": [
    "{1:\"yes\",0:\"No\"}"
   ]
  },
  {
   "cell_type": "code",
   "execution_count": 4,
   "metadata": {
    "scrolled": false
   },
   "outputs": [
    {
     "data": {
      "text/html": [
       "<div>\n",
       "<style scoped>\n",
       "    .dataframe tbody tr th:only-of-type {\n",
       "        vertical-align: middle;\n",
       "    }\n",
       "\n",
       "    .dataframe tbody tr th {\n",
       "        vertical-align: top;\n",
       "    }\n",
       "\n",
       "    .dataframe thead th {\n",
       "        text-align: right;\n",
       "    }\n",
       "</style>\n",
       "<table border=\"1\" class=\"dataframe\">\n",
       "  <thead>\n",
       "    <tr style=\"text-align: right;\">\n",
       "      <th></th>\n",
       "      <th>INCIDENT_ID</th>\n",
       "      <th>DATE</th>\n",
       "      <th>X_1</th>\n",
       "      <th>X_2</th>\n",
       "      <th>X_3</th>\n",
       "      <th>X_4</th>\n",
       "      <th>X_5</th>\n",
       "      <th>X_6</th>\n",
       "      <th>X_7</th>\n",
       "      <th>X_8</th>\n",
       "      <th>X_9</th>\n",
       "      <th>X_10</th>\n",
       "      <th>X_11</th>\n",
       "      <th>X_12</th>\n",
       "      <th>X_13</th>\n",
       "      <th>X_14</th>\n",
       "      <th>X_15</th>\n",
       "      <th>MULTIPLE_OFFENSE</th>\n",
       "    </tr>\n",
       "  </thead>\n",
       "  <tbody>\n",
       "    <tr>\n",
       "      <th>0</th>\n",
       "      <td>CR_102659</td>\n",
       "      <td>04-JUL-04</td>\n",
       "      <td>0</td>\n",
       "      <td>36</td>\n",
       "      <td>34</td>\n",
       "      <td>2</td>\n",
       "      <td>1</td>\n",
       "      <td>5</td>\n",
       "      <td>6</td>\n",
       "      <td>1</td>\n",
       "      <td>6</td>\n",
       "      <td>1</td>\n",
       "      <td>174</td>\n",
       "      <td>1.0</td>\n",
       "      <td>92</td>\n",
       "      <td>29</td>\n",
       "      <td>36</td>\n",
       "      <td>0</td>\n",
       "    </tr>\n",
       "    <tr>\n",
       "      <th>1</th>\n",
       "      <td>CR_189752</td>\n",
       "      <td>18-JUL-17</td>\n",
       "      <td>1</td>\n",
       "      <td>37</td>\n",
       "      <td>37</td>\n",
       "      <td>0</td>\n",
       "      <td>0</td>\n",
       "      <td>11</td>\n",
       "      <td>17</td>\n",
       "      <td>1</td>\n",
       "      <td>6</td>\n",
       "      <td>1</td>\n",
       "      <td>236</td>\n",
       "      <td>1.0</td>\n",
       "      <td>103</td>\n",
       "      <td>142</td>\n",
       "      <td>34</td>\n",
       "      <td>1</td>\n",
       "    </tr>\n",
       "    <tr>\n",
       "      <th>2</th>\n",
       "      <td>CR_184637</td>\n",
       "      <td>15-MAR-17</td>\n",
       "      <td>0</td>\n",
       "      <td>3</td>\n",
       "      <td>2</td>\n",
       "      <td>3</td>\n",
       "      <td>5</td>\n",
       "      <td>1</td>\n",
       "      <td>0</td>\n",
       "      <td>2</td>\n",
       "      <td>3</td>\n",
       "      <td>1</td>\n",
       "      <td>174</td>\n",
       "      <td>1.0</td>\n",
       "      <td>110</td>\n",
       "      <td>93</td>\n",
       "      <td>34</td>\n",
       "      <td>1</td>\n",
       "    </tr>\n",
       "    <tr>\n",
       "      <th>3</th>\n",
       "      <td>CR_139071</td>\n",
       "      <td>13-FEB-09</td>\n",
       "      <td>0</td>\n",
       "      <td>33</td>\n",
       "      <td>32</td>\n",
       "      <td>2</td>\n",
       "      <td>1</td>\n",
       "      <td>7</td>\n",
       "      <td>1</td>\n",
       "      <td>1</td>\n",
       "      <td>6</td>\n",
       "      <td>1</td>\n",
       "      <td>249</td>\n",
       "      <td>1.0</td>\n",
       "      <td>72</td>\n",
       "      <td>29</td>\n",
       "      <td>34</td>\n",
       "      <td>1</td>\n",
       "    </tr>\n",
       "    <tr>\n",
       "      <th>4</th>\n",
       "      <td>CR_109335</td>\n",
       "      <td>13-APR-05</td>\n",
       "      <td>0</td>\n",
       "      <td>33</td>\n",
       "      <td>32</td>\n",
       "      <td>2</td>\n",
       "      <td>1</td>\n",
       "      <td>8</td>\n",
       "      <td>3</td>\n",
       "      <td>0</td>\n",
       "      <td>5</td>\n",
       "      <td>1</td>\n",
       "      <td>174</td>\n",
       "      <td>0.0</td>\n",
       "      <td>112</td>\n",
       "      <td>29</td>\n",
       "      <td>43</td>\n",
       "      <td>1</td>\n",
       "    </tr>\n",
       "  </tbody>\n",
       "</table>\n",
       "</div>"
      ],
      "text/plain": [
       "  INCIDENT_ID       DATE  X_1  X_2  X_3  X_4  X_5  X_6  X_7  X_8  X_9  X_10  \\\n",
       "0   CR_102659  04-JUL-04    0   36   34    2    1    5    6    1    6     1   \n",
       "1   CR_189752  18-JUL-17    1   37   37    0    0   11   17    1    6     1   \n",
       "2   CR_184637  15-MAR-17    0    3    2    3    5    1    0    2    3     1   \n",
       "3   CR_139071  13-FEB-09    0   33   32    2    1    7    1    1    6     1   \n",
       "4   CR_109335  13-APR-05    0   33   32    2    1    8    3    0    5     1   \n",
       "\n",
       "   X_11  X_12  X_13  X_14  X_15  MULTIPLE_OFFENSE  \n",
       "0   174   1.0    92    29    36                 0  \n",
       "1   236   1.0   103   142    34                 1  \n",
       "2   174   1.0   110    93    34                 1  \n",
       "3   249   1.0    72    29    34                 1  \n",
       "4   174   0.0   112    29    43                 1  "
      ]
     },
     "execution_count": 4,
     "metadata": {},
     "output_type": "execute_result"
    }
   ],
   "source": [
    "train_df.head()"
   ]
  },
  {
   "cell_type": "code",
   "execution_count": 5,
   "metadata": {},
   "outputs": [
    {
     "data": {
      "text/html": [
       "<div>\n",
       "<style scoped>\n",
       "    .dataframe tbody tr th:only-of-type {\n",
       "        vertical-align: middle;\n",
       "    }\n",
       "\n",
       "    .dataframe tbody tr th {\n",
       "        vertical-align: top;\n",
       "    }\n",
       "\n",
       "    .dataframe thead th {\n",
       "        text-align: right;\n",
       "    }\n",
       "</style>\n",
       "<table border=\"1\" class=\"dataframe\">\n",
       "  <thead>\n",
       "    <tr style=\"text-align: right;\">\n",
       "      <th></th>\n",
       "      <th>INCIDENT_ID</th>\n",
       "      <th>DATE</th>\n",
       "      <th>X_1</th>\n",
       "      <th>X_2</th>\n",
       "      <th>X_3</th>\n",
       "      <th>X_4</th>\n",
       "      <th>X_5</th>\n",
       "      <th>X_6</th>\n",
       "      <th>X_7</th>\n",
       "      <th>X_8</th>\n",
       "      <th>X_9</th>\n",
       "      <th>X_10</th>\n",
       "      <th>X_11</th>\n",
       "      <th>X_12</th>\n",
       "      <th>X_13</th>\n",
       "      <th>X_14</th>\n",
       "      <th>X_15</th>\n",
       "    </tr>\n",
       "  </thead>\n",
       "  <tbody>\n",
       "    <tr>\n",
       "      <th>0</th>\n",
       "      <td>CR_195453</td>\n",
       "      <td>01-FEB-18</td>\n",
       "      <td>0</td>\n",
       "      <td>30</td>\n",
       "      <td>35</td>\n",
       "      <td>7</td>\n",
       "      <td>3</td>\n",
       "      <td>6</td>\n",
       "      <td>4</td>\n",
       "      <td>0</td>\n",
       "      <td>5</td>\n",
       "      <td>1</td>\n",
       "      <td>174</td>\n",
       "      <td>NaN</td>\n",
       "      <td>72</td>\n",
       "      <td>119</td>\n",
       "      <td>23</td>\n",
       "    </tr>\n",
       "    <tr>\n",
       "      <th>1</th>\n",
       "      <td>CR_103520</td>\n",
       "      <td>05-MAR-04</td>\n",
       "      <td>0</td>\n",
       "      <td>44</td>\n",
       "      <td>44</td>\n",
       "      <td>1</td>\n",
       "      <td>3</td>\n",
       "      <td>7</td>\n",
       "      <td>1</td>\n",
       "      <td>4</td>\n",
       "      <td>6</td>\n",
       "      <td>1</td>\n",
       "      <td>316</td>\n",
       "      <td>0.0</td>\n",
       "      <td>12</td>\n",
       "      <td>29</td>\n",
       "      <td>34</td>\n",
       "    </tr>\n",
       "    <tr>\n",
       "      <th>2</th>\n",
       "      <td>CR_196089</td>\n",
       "      <td>27-JAN-18</td>\n",
       "      <td>0</td>\n",
       "      <td>34</td>\n",
       "      <td>33</td>\n",
       "      <td>3</td>\n",
       "      <td>5</td>\n",
       "      <td>2</td>\n",
       "      <td>7</td>\n",
       "      <td>3</td>\n",
       "      <td>0</td>\n",
       "      <td>1</td>\n",
       "      <td>316</td>\n",
       "      <td>1.0</td>\n",
       "      <td>72</td>\n",
       "      <td>0</td>\n",
       "      <td>34</td>\n",
       "    </tr>\n",
       "    <tr>\n",
       "      <th>3</th>\n",
       "      <td>CR_112195</td>\n",
       "      <td>18-AUG-06</td>\n",
       "      <td>7</td>\n",
       "      <td>3</td>\n",
       "      <td>2</td>\n",
       "      <td>3</td>\n",
       "      <td>5</td>\n",
       "      <td>9</td>\n",
       "      <td>8</td>\n",
       "      <td>0</td>\n",
       "      <td>5</td>\n",
       "      <td>1</td>\n",
       "      <td>174</td>\n",
       "      <td>1.0</td>\n",
       "      <td>112</td>\n",
       "      <td>87</td>\n",
       "      <td>34</td>\n",
       "    </tr>\n",
       "    <tr>\n",
       "      <th>4</th>\n",
       "      <td>CR_149832</td>\n",
       "      <td>31-OCT-11</td>\n",
       "      <td>0</td>\n",
       "      <td>7</td>\n",
       "      <td>8</td>\n",
       "      <td>7</td>\n",
       "      <td>3</td>\n",
       "      <td>2</td>\n",
       "      <td>7</td>\n",
       "      <td>1</td>\n",
       "      <td>5</td>\n",
       "      <td>1</td>\n",
       "      <td>174</td>\n",
       "      <td>0.0</td>\n",
       "      <td>112</td>\n",
       "      <td>93</td>\n",
       "      <td>43</td>\n",
       "    </tr>\n",
       "  </tbody>\n",
       "</table>\n",
       "</div>"
      ],
      "text/plain": [
       "  INCIDENT_ID       DATE  X_1  X_2  X_3  X_4  X_5  X_6  X_7  X_8  X_9  X_10  \\\n",
       "0   CR_195453  01-FEB-18    0   30   35    7    3    6    4    0    5     1   \n",
       "1   CR_103520  05-MAR-04    0   44   44    1    3    7    1    4    6     1   \n",
       "2   CR_196089  27-JAN-18    0   34   33    3    5    2    7    3    0     1   \n",
       "3   CR_112195  18-AUG-06    7    3    2    3    5    9    8    0    5     1   \n",
       "4   CR_149832  31-OCT-11    0    7    8    7    3    2    7    1    5     1   \n",
       "\n",
       "   X_11  X_12  X_13  X_14  X_15  \n",
       "0   174   NaN    72   119    23  \n",
       "1   316   0.0    12    29    34  \n",
       "2   316   1.0    72     0    34  \n",
       "3   174   1.0   112    87    34  \n",
       "4   174   0.0   112    93    43  "
      ]
     },
     "execution_count": 5,
     "metadata": {},
     "output_type": "execute_result"
    }
   ],
   "source": [
    "test_df.head()"
   ]
  },
  {
   "cell_type": "code",
   "execution_count": 6,
   "metadata": {},
   "outputs": [],
   "source": [
    "sub = pd.DataFrame()\n",
    "sub['INCIDENT_ID'] = test_df['INCIDENT_ID']"
   ]
  },
  {
   "cell_type": "code",
   "execution_count": 7,
   "metadata": {},
   "outputs": [],
   "source": [
    "sub['MULTIPLE_OFFENSE'] = 1\n"
   ]
  },
  {
   "cell_type": "code",
   "execution_count": 8,
   "metadata": {},
   "outputs": [],
   "source": [
    "sub.to_csv('All_1.csv',index=False)"
   ]
  },
  {
   "cell_type": "code",
   "execution_count": null,
   "metadata": {},
   "outputs": [],
   "source": []
  },
  {
   "cell_type": "code",
   "execution_count": 9,
   "metadata": {},
   "outputs": [],
   "source": [
    "from sklearn.metrics import recall_score\n",
    "def eval_metric(actual,preds):\n",
    "    return recall_score(actual,preds)\n",
    "    \n",
    "    "
   ]
  },
  {
   "cell_type": "code",
   "execution_count": 10,
   "metadata": {},
   "outputs": [
    {
     "data": {
      "text/plain": [
       "(1    22788\n",
       " 0     1068\n",
       " Name: MULTIPLE_OFFENSE, dtype: int64, 1    0.955231\n",
       " 0    0.044769\n",
       " Name: MULTIPLE_OFFENSE, dtype: float64)"
      ]
     },
     "execution_count": 10,
     "metadata": {},
     "output_type": "execute_result"
    }
   ],
   "source": [
    "train_df['MULTIPLE_OFFENSE'].value_counts(),train_df['MULTIPLE_OFFENSE'].value_counts(True)"
   ]
  },
  {
   "cell_type": "code",
   "execution_count": 11,
   "metadata": {},
   "outputs": [],
   "source": [
    "from sklearn.model_selection import train_test_split\n",
    "\n",
    "train_df_1 = train_df.drop(['DATE','INCIDENT_ID'],axis=1)\n",
    "train_df_1['X_12']= train_df_1['X_12'].fillna(-1.0)\n",
    "\n",
    "train_x, valid_x,train_y,valid_y = train_test_split(train_df_1.drop(['MULTIPLE_OFFENSE'],axis=1),train_df_1['MULTIPLE_OFFENSE'],stratify=train_df_1['MULTIPLE_OFFENSE'])"
   ]
  },
  {
   "cell_type": "code",
   "execution_count": null,
   "metadata": {},
   "outputs": [],
   "source": [
    "train_x.shape,train_y.shape, valid_x.shape,valid_y.shape"
   ]
  },
  {
   "cell_type": "code",
   "execution_count": null,
   "metadata": {},
   "outputs": [],
   "source": [
    "train_df.info()"
   ]
  },
  {
   "cell_type": "code",
   "execution_count": null,
   "metadata": {},
   "outputs": [],
   "source": [
    "train_df.corr()['MULTIPLE_OFFENSE']"
   ]
  },
  {
   "cell_type": "code",
   "execution_count": null,
   "metadata": {},
   "outputs": [],
   "source": [
    "from sklearn.linear_model import LogisticRegression\n",
    "from sklearn.neighbors import KNeighborsClassifier"
   ]
  },
  {
   "cell_type": "code",
   "execution_count": null,
   "metadata": {},
   "outputs": [],
   "source": [
    "clf = LogisticRegression(random_state=0)"
   ]
  },
  {
   "cell_type": "code",
   "execution_count": null,
   "metadata": {
    "scrolled": true
   },
   "outputs": [],
   "source": [
    "clf.fit(train_x,train_y)"
   ]
  },
  {
   "cell_type": "code",
   "execution_count": null,
   "metadata": {},
   "outputs": [],
   "source": [
    "clf = KNeighborsClassifier().fit(train_x,train_y)"
   ]
  },
  {
   "cell_type": "code",
   "execution_count": null,
   "metadata": {},
   "outputs": [],
   "source": [
    "preds = clf.predict(valid_x)\n",
    "eval_metric(valid_y,preds)"
   ]
  },
  {
   "cell_type": "code",
   "execution_count": 45,
   "metadata": {},
   "outputs": [],
   "source": [
    "def preprocessing(df):\n",
    "    df['X_12']= df['X_12'].fillna(-1.0)\n",
    "    return df"
   ]
  },
  {
   "cell_type": "code",
   "execution_count": null,
   "metadata": {},
   "outputs": [],
   "source": []
  },
  {
   "cell_type": "code",
   "execution_count": 46,
   "metadata": {},
   "outputs": [],
   "source": [
    "test_df= pd.read_csv('Dataset/Test.csv')\n",
    "ignore_cols =['DATE','INCIDENT_ID']\n",
    "test_df_1 = test_df.drop(ignore_cols,axis=1)\n",
    "test_df_1 = preprocessing(test_df_1)\n"
   ]
  },
  {
   "cell_type": "code",
   "execution_count": null,
   "metadata": {},
   "outputs": [],
   "source": [
    "preds = clf.predict(test_df_1)"
   ]
  },
  {
   "cell_type": "code",
   "execution_count": null,
   "metadata": {},
   "outputs": [],
   "source": [
    "sub['MULTIPLE_OFFENSE'] = preds\n"
   ]
  },
  {
   "cell_type": "code",
   "execution_count": null,
   "metadata": {
    "scrolled": true
   },
   "outputs": [],
   "source": [
    "sub.to_csv('KNN.csv',index=False)"
   ]
  },
  {
   "cell_type": "code",
   "execution_count": null,
   "metadata": {},
   "outputs": [],
   "source": [
    "from sklearn.neural_network import MLPClassifier"
   ]
  },
  {
   "cell_type": "code",
   "execution_count": null,
   "metadata": {},
   "outputs": [],
   "source": [
    "clf = MLPClassifier().fit(train_x,train_y)"
   ]
  },
  {
   "cell_type": "code",
   "execution_count": null,
   "metadata": {},
   "outputs": [],
   "source": [
    "preds= clf.predict(valid_x)\n",
    "eval_metric(valid_y,preds)\n",
    "\n",
    "preds = clf.predict(test_df_1)"
   ]
  },
  {
   "cell_type": "code",
   "execution_count": null,
   "metadata": {},
   "outputs": [],
   "source": [
    "sub['MULTIPLE_OFFENSE'] = preds\n"
   ]
  },
  {
   "cell_type": "code",
   "execution_count": null,
   "metadata": {},
   "outputs": [],
   "source": [
    "sub.to_csv('MLPClassifier.csv',index=False)"
   ]
  },
  {
   "cell_type": "code",
   "execution_count": 51,
   "metadata": {},
   "outputs": [],
   "source": [
    "import tensorflow as tf\n",
    "from tensorflow.keras.layers import Dense,Dropout\n",
    "from tensorflow.keras.optimizers import Adam\n",
    "from tensorflow.keras.models import Sequential"
   ]
  },
  {
   "cell_type": "code",
   "execution_count": 13,
   "metadata": {},
   "outputs": [
    {
     "data": {
      "text/plain": [
       "(5964, 15)"
      ]
     },
     "execution_count": 13,
     "metadata": {},
     "output_type": "execute_result"
    }
   ],
   "source": [
    "valid_x.shape"
   ]
  },
  {
   "cell_type": "code",
   "execution_count": 84,
   "metadata": {},
   "outputs": [
    {
     "data": {
      "text/plain": [
       "{1: 17091, 0: 801}"
      ]
     },
     "execution_count": 84,
     "metadata": {},
     "output_type": "execute_result"
    }
   ],
   "source": [
    "train_class_weight = dict(train_y.value_counts())\n",
    "train_class_weight"
   ]
  },
  {
   "cell_type": "code",
   "execution_count": 95,
   "metadata": {},
   "outputs": [
    {
     "data": {
      "text/plain": [
       "0        0\n",
       "1        1\n",
       "2        1\n",
       "3        1\n",
       "4        1\n",
       "        ..\n",
       "23851    1\n",
       "23852    1\n",
       "23853    1\n",
       "23854    1\n",
       "23855    1\n",
       "Name: MULTIPLE_OFFENSE, Length: 23856, dtype: int64"
      ]
     },
     "execution_count": 95,
     "metadata": {},
     "output_type": "execute_result"
    }
   ],
   "source": [
    "train_df['MULTIPLE_OFFENSE']"
   ]
  },
  {
   "cell_type": "code",
   "execution_count": 99,
   "metadata": {},
   "outputs": [],
   "source": [
    "bool_train_labels = train_df['MULTIPLE_OFFENSE']==0"
   ]
  },
  {
   "cell_type": "code",
   "execution_count": 100,
   "metadata": {},
   "outputs": [],
   "source": [
    "pos_features = train_df[bool_train_labels]\n",
    "neg_features = train_df[~bool_train_labels]\n",
    "\n",
    "pos_labels = train_df[bool_train_labels]\n",
    "neg_labels = train_df[~bool_train_labels]"
   ]
  },
  {
   "cell_type": "code",
   "execution_count": 103,
   "metadata": {},
   "outputs": [
    {
     "data": {
      "text/plain": [
       "(22788, 18)"
      ]
     },
     "execution_count": 103,
     "metadata": {},
     "output_type": "execute_result"
    }
   ],
   "source": [
    "ids = np.arange(len(pos_features))\n",
    "choices = np.random.choice(ids, len(neg_features))\n",
    "\n",
    "res_pos_features = pos_features.iloc[choices]\n",
    "res_pos_labels = pos_labels.iloc[choices]\n",
    "\n",
    "res_pos_features.shape"
   ]
  },
  {
   "cell_type": "code",
   "execution_count": 112,
   "metadata": {},
   "outputs": [
    {
     "data": {
      "text/plain": [
       "(45576, 18)"
      ]
     },
     "execution_count": 112,
     "metadata": {},
     "output_type": "execute_result"
    }
   ],
   "source": [
    "resampled_features = pd.concat([res_pos_features, neg_features], axis=0)\n",
    "resampled_labels = pd.concat([res_pos_labels, neg_labels], axis=0)\n",
    "\n",
    "order = np.arange(len(resampled_labels))\n",
    "np.random.shuffle(order)\n",
    "resampled_features = resampled_features.iloc[order]\n",
    "resampled_labels = resampled_labels.iloc[order]\n",
    "\n",
    "resampled_features.shape"
   ]
  },
  {
   "cell_type": "code",
   "execution_count": 116,
   "metadata": {},
   "outputs": [],
   "source": [
    "from sklearn.model_selection import train_test_split\n",
    "\n",
    "train_df_1 = resampled_features.drop(['DATE','INCIDENT_ID'],axis=1)\n",
    "train_df_1['X_12']= train_df_1['X_12'].fillna(-1.0)\n",
    "\n",
    "train_x, valid_x,train_y,valid_y = train_test_split(train_df_1.drop(['MULTIPLE_OFFENSE'],axis=1),train_df_1['MULTIPLE_OFFENSE'],stratify=train_df_1['MULTIPLE_OFFENSE'])"
   ]
  },
  {
   "cell_type": "code",
   "execution_count": 117,
   "metadata": {},
   "outputs": [
    {
     "data": {
      "text/plain": [
       "((34182, 15), (34182,), (11394, 15), (11394,))"
      ]
     },
     "execution_count": 117,
     "metadata": {},
     "output_type": "execute_result"
    }
   ],
   "source": [
    "train_x.shape,train_y.shape, valid_x.shape,valid_y.shape"
   ]
  },
  {
   "cell_type": "code",
   "execution_count": 121,
   "metadata": {},
   "outputs": [],
   "source": [
    "opt = Adam(learning_rate=1e-5)"
   ]
  },
  {
   "cell_type": "code",
   "execution_count": 149,
   "metadata": {},
   "outputs": [
    {
     "name": "stdout",
     "output_type": "stream",
     "text": [
      "Model: \"sequential_9\"\n",
      "_________________________________________________________________\n",
      "Layer (type)                 Output Shape              Param #   \n",
      "=================================================================\n",
      "dense_27 (Dense)             (None, 128)               2048      \n",
      "_________________________________________________________________\n",
      "dropout_14 (Dropout)         (None, 128)               0         \n",
      "_________________________________________________________________\n",
      "dense_28 (Dense)             (None, 1)                 129       \n",
      "=================================================================\n",
      "Total params: 2,177\n",
      "Trainable params: 2,177\n",
      "Non-trainable params: 0\n",
      "_________________________________________________________________\n"
     ]
    }
   ],
   "source": [
    "model = Sequential([\n",
    "        Dense(128,input_shape=(15,),activation='relu'),\n",
    "        Dropout(0.25),\n",
    "#         Dense(64,activation='relu'),\n",
    "#         Dropout(0.25),\n",
    "#         Dense(16,activation='relu'),\n",
    "#         Dropout(0.2),\n",
    "#         Dense(4,activation='relu'),\n",
    "#         Dropout(0.2),\n",
    "        Dense(1,activation='sigmoid')])\n",
    "        \n",
    "\n",
    "    \n",
    "model.summary()"
   ]
  },
  {
   "cell_type": "code",
   "execution_count": 150,
   "metadata": {},
   "outputs": [],
   "source": [
    "model.compile(optimizer=opt,loss='binary_crossentropy',metrics=['accuracy',tf.keras.metrics.Recall(),tf.keras.metrics.AUC()])"
   ]
  },
  {
   "cell_type": "code",
   "execution_count": 151,
   "metadata": {
    "scrolled": false
   },
   "outputs": [
    {
     "name": "stdout",
     "output_type": "stream",
     "text": [
      "Epoch 1/50\n",
      "268/268 [==============================] - 1s 5ms/step - loss: 5.5096 - accuracy: 0.5225 - recall_9: 0.5514 - auc_9: 0.5276 - val_loss: 1.7154 - val_accuracy: 0.5837 - val_recall_9: 0.5808 - val_auc_9: 0.6360\n",
      "Epoch 2/50\n",
      "268/268 [==============================] - 1s 4ms/step - loss: 4.7785 - accuracy: 0.5447 - recall_9: 0.5539 - auc_9: 0.5533 - val_loss: 1.5533 - val_accuracy: 0.6307 - val_recall_9: 0.6628 - val_auc_9: 0.6762\n",
      "Epoch 3/50\n",
      "268/268 [==============================] - 1s 4ms/step - loss: 4.4950 - accuracy: 0.5530 - recall_9: 0.5609 - auc_9: 0.5663 - val_loss: 1.4593 - val_accuracy: 0.6548 - val_recall_9: 0.6435 - val_auc_9: 0.6954\n",
      "Epoch 4/50\n",
      "268/268 [==============================] - 1s 4ms/step - loss: 4.2618 - accuracy: 0.5641 - recall_9: 0.5684 - auc_9: 0.5769 - val_loss: 1.4073 - val_accuracy: 0.6610 - val_recall_9: 0.6726 - val_auc_9: 0.7083\n",
      "Epoch 5/50\n",
      "268/268 [==============================] - 1s 4ms/step - loss: 4.0605 - accuracy: 0.5682 - recall_9: 0.5792 - auc_9: 0.5846 - val_loss: 1.3561 - val_accuracy: 0.6768 - val_recall_9: 0.6700 - val_auc_9: 0.7190\n",
      "Epoch 6/50\n",
      "268/268 [==============================] - 1s 4ms/step - loss: 3.9676 - accuracy: 0.5695 - recall_9: 0.5757 - auc_9: 0.5871 - val_loss: 1.3155 - val_accuracy: 0.6813 - val_recall_9: 0.6890 - val_auc_9: 0.7264\n",
      "Epoch 7/50\n",
      "268/268 [==============================] - 1s 4ms/step - loss: 3.7658 - accuracy: 0.5738 - recall_9: 0.5848 - auc_9: 0.5938 - val_loss: 1.2764 - val_accuracy: 0.6926 - val_recall_9: 0.6858 - val_auc_9: 0.7338\n",
      "Epoch 8/50\n",
      "268/268 [==============================] - 1s 4ms/step - loss: 3.6749 - accuracy: 0.5771 - recall_9: 0.5866 - auc_9: 0.5968 - val_loss: 1.2501 - val_accuracy: 0.6987 - val_recall_9: 0.6970 - val_auc_9: 0.7394\n",
      "Epoch 9/50\n",
      "268/268 [==============================] - 1s 4ms/step - loss: 3.5433 - accuracy: 0.5840 - recall_9: 0.5956 - auc_9: 0.6031 - val_loss: 1.2249 - val_accuracy: 0.7053 - val_recall_9: 0.7067 - val_auc_9: 0.7442\n",
      "Epoch 10/50\n",
      "268/268 [==============================] - 1s 4ms/step - loss: 3.4084 - accuracy: 0.5872 - recall_9: 0.6015 - auc_9: 0.6091 - val_loss: 1.2014 - val_accuracy: 0.7063 - val_recall_9: 0.7051 - val_auc_9: 0.7488\n",
      "Epoch 11/50\n",
      "268/268 [==============================] - 1s 4ms/step - loss: 3.3040 - accuracy: 0.5857 - recall_9: 0.5967 - auc_9: 0.6076 - val_loss: 1.1744 - val_accuracy: 0.7082 - val_recall_9: 0.7158 - val_auc_9: 0.7527\n",
      "Epoch 12/50\n",
      "268/268 [==============================] - 1s 4ms/step - loss: 3.2278 - accuracy: 0.5835 - recall_9: 0.5928 - auc_9: 0.6078 - val_loss: 1.1543 - val_accuracy: 0.7139 - val_recall_9: 0.7272 - val_auc_9: 0.7562\n",
      "Epoch 13/50\n",
      "268/268 [==============================] - 1s 4ms/step - loss: 3.1217 - accuracy: 0.5888 - recall_9: 0.5989 - auc_9: 0.6117 - val_loss: 1.1281 - val_accuracy: 0.7144 - val_recall_9: 0.7320 - val_auc_9: 0.7589\n",
      "Epoch 14/50\n",
      "268/268 [==============================] - 1s 4ms/step - loss: 3.0594 - accuracy: 0.5902 - recall_9: 0.6050 - auc_9: 0.6151 - val_loss: 1.0990 - val_accuracy: 0.7158 - val_recall_9: 0.7283 - val_auc_9: 0.7619\n",
      "Epoch 15/50\n",
      "268/268 [==============================] - 1s 4ms/step - loss: 2.9406 - accuracy: 0.5955 - recall_9: 0.6070 - auc_9: 0.6204 - val_loss: 1.0764 - val_accuracy: 0.7153 - val_recall_9: 0.7214 - val_auc_9: 0.7638\n",
      "Epoch 16/50\n",
      "268/268 [==============================] - 1s 4ms/step - loss: 2.8633 - accuracy: 0.5938 - recall_9: 0.6020 - auc_9: 0.6209 - val_loss: 1.0626 - val_accuracy: 0.7197 - val_recall_9: 0.7418 - val_auc_9: 0.7674\n",
      "Epoch 17/50\n",
      "268/268 [==============================] - 1s 4ms/step - loss: 2.7615 - accuracy: 0.5967 - recall_9: 0.6108 - auc_9: 0.6250 - val_loss: 1.0203 - val_accuracy: 0.7215 - val_recall_9: 0.7142 - val_auc_9: 0.7690\n",
      "Epoch 18/50\n",
      "268/268 [==============================] - 1s 4ms/step - loss: 2.6714 - accuracy: 0.5981 - recall_9: 0.6087 - auc_9: 0.6274 - val_loss: 1.0044 - val_accuracy: 0.7259 - val_recall_9: 0.7320 - val_auc_9: 0.7723\n",
      "Epoch 19/50\n",
      "268/268 [==============================] - 1s 4ms/step - loss: 2.6253 - accuracy: 0.5980 - recall_9: 0.6086 - auc_9: 0.6246 - val_loss: 0.9842 - val_accuracy: 0.7270 - val_recall_9: 0.7251 - val_auc_9: 0.7741\n",
      "Epoch 20/50\n",
      "268/268 [==============================] - 1s 4ms/step - loss: 2.4834 - accuracy: 0.6032 - recall_9: 0.6138 - auc_9: 0.6330 - val_loss: 0.9565 - val_accuracy: 0.7268 - val_recall_9: 0.7181 - val_auc_9: 0.7764\n",
      "Epoch 21/50\n",
      "268/268 [==============================] - 1s 4ms/step - loss: 2.4336 - accuracy: 0.6022 - recall_9: 0.6108 - auc_9: 0.6329 - val_loss: 0.9405 - val_accuracy: 0.7287 - val_recall_9: 0.7339 - val_auc_9: 0.7789\n",
      "Epoch 22/50\n",
      "268/268 [==============================] - 1s 4ms/step - loss: 2.3768 - accuracy: 0.6057 - recall_9: 0.6186 - auc_9: 0.6364 - val_loss: 0.9152 - val_accuracy: 0.7284 - val_recall_9: 0.7165 - val_auc_9: 0.7809\n",
      "Epoch 23/50\n",
      "268/268 [==============================] - 1s 4ms/step - loss: 2.3132 - accuracy: 0.6033 - recall_9: 0.6114 - auc_9: 0.6349 - val_loss: 0.8993 - val_accuracy: 0.7347 - val_recall_9: 0.7409 - val_auc_9: 0.7838\n",
      "Epoch 24/50\n",
      "268/268 [==============================] - 1s 4ms/step - loss: 2.2243 - accuracy: 0.6070 - recall_9: 0.6154 - auc_9: 0.6415 - val_loss: 0.8725 - val_accuracy: 0.7366 - val_recall_9: 0.7220 - val_auc_9: 0.7861\n",
      "Epoch 25/50\n",
      "268/268 [==============================] - 1s 4ms/step - loss: 2.1745 - accuracy: 0.6071 - recall_9: 0.6135 - auc_9: 0.6423 - val_loss: 0.8548 - val_accuracy: 0.7405 - val_recall_9: 0.7381 - val_auc_9: 0.7886\n",
      "Epoch 26/50\n",
      "268/268 [==============================] - 1s 4ms/step - loss: 2.0822 - accuracy: 0.6118 - recall_9: 0.6200 - auc_9: 0.6461 - val_loss: 0.8367 - val_accuracy: 0.7439 - val_recall_9: 0.7328 - val_auc_9: 0.7913\n",
      "Epoch 27/50\n",
      "268/268 [==============================] - 1s 4ms/step - loss: 2.0492 - accuracy: 0.6102 - recall_9: 0.6194 - auc_9: 0.6455 - val_loss: 0.8185 - val_accuracy: 0.7471 - val_recall_9: 0.7437 - val_auc_9: 0.7943\n",
      "Epoch 28/50\n",
      "268/268 [==============================] - 1s 4ms/step - loss: 1.9582 - accuracy: 0.6160 - recall_9: 0.6228 - auc_9: 0.6510 - val_loss: 0.7996 - val_accuracy: 0.7510 - val_recall_9: 0.7485 - val_auc_9: 0.7964\n",
      "Epoch 29/50\n",
      "268/268 [==============================] - 1s 4ms/step - loss: 1.9045 - accuracy: 0.6179 - recall_9: 0.6262 - auc_9: 0.6545 - val_loss: 0.7843 - val_accuracy: 0.7438 - val_recall_9: 0.7220 - val_auc_9: 0.7975\n",
      "Epoch 30/50\n",
      "268/268 [==============================] - 1s 4ms/step - loss: 1.8208 - accuracy: 0.6246 - recall_9: 0.6297 - auc_9: 0.6618 - val_loss: 0.7691 - val_accuracy: 0.7505 - val_recall_9: 0.7423 - val_auc_9: 0.8002\n",
      "Epoch 31/50\n",
      "268/268 [==============================] - 1s 4ms/step - loss: 1.7919 - accuracy: 0.6207 - recall_9: 0.6269 - auc_9: 0.6610 - val_loss: 0.7533 - val_accuracy: 0.7549 - val_recall_9: 0.7488 - val_auc_9: 0.8022\n",
      "Epoch 32/50\n",
      "268/268 [==============================] - 1s 4ms/step - loss: 1.7274 - accuracy: 0.6202 - recall_9: 0.6258 - auc_9: 0.6634 - val_loss: 0.7439 - val_accuracy: 0.7599 - val_recall_9: 0.7639 - val_auc_9: 0.8048\n",
      "Epoch 33/50\n",
      "268/268 [==============================] - 1s 4ms/step - loss: 1.6794 - accuracy: 0.6261 - recall_9: 0.6348 - auc_9: 0.6671 - val_loss: 0.7249 - val_accuracy: 0.7552 - val_recall_9: 0.7406 - val_auc_9: 0.8068\n",
      "Epoch 34/50\n",
      "268/268 [==============================] - 1s 4ms/step - loss: 1.6406 - accuracy: 0.6237 - recall_9: 0.6303 - auc_9: 0.6655 - val_loss: 0.7091 - val_accuracy: 0.7543 - val_recall_9: 0.7390 - val_auc_9: 0.8088\n",
      "Epoch 35/50\n",
      "268/268 [==============================] - 1s 4ms/step - loss: 1.5955 - accuracy: 0.6260 - recall_9: 0.6308 - auc_9: 0.6671 - val_loss: 0.6937 - val_accuracy: 0.7565 - val_recall_9: 0.7490 - val_auc_9: 0.8111\n",
      "Epoch 36/50\n",
      "268/268 [==============================] - 1s 4ms/step - loss: 1.5051 - accuracy: 0.6328 - recall_9: 0.6346 - auc_9: 0.6765 - val_loss: 0.6816 - val_accuracy: 0.7590 - val_recall_9: 0.7667 - val_auc_9: 0.8143\n",
      "Epoch 37/50\n",
      "268/268 [==============================] - 1s 4ms/step - loss: 1.4790 - accuracy: 0.6316 - recall_9: 0.6386 - auc_9: 0.6773 - val_loss: 0.6725 - val_accuracy: 0.7609 - val_recall_9: 0.7676 - val_auc_9: 0.8167\n",
      "Epoch 38/50\n",
      "268/268 [==============================] - 1s 4ms/step - loss: 1.4324 - accuracy: 0.6367 - recall_9: 0.6396 - auc_9: 0.6817 - val_loss: 0.6568 - val_accuracy: 0.7626 - val_recall_9: 0.7643 - val_auc_9: 0.8191\n",
      "Epoch 39/50\n",
      "268/268 [==============================] - 1s 4ms/step - loss: 1.3610 - accuracy: 0.6397 - recall_9: 0.6443 - auc_9: 0.6864 - val_loss: 0.6406 - val_accuracy: 0.7636 - val_recall_9: 0.7539 - val_auc_9: 0.8209\n",
      "Epoch 40/50\n",
      "268/268 [==============================] - 1s 4ms/step - loss: 1.3324 - accuracy: 0.6424 - recall_9: 0.6417 - auc_9: 0.6895 - val_loss: 0.6310 - val_accuracy: 0.7699 - val_recall_9: 0.7744 - val_auc_9: 0.8234\n",
      "Epoch 41/50\n",
      "268/268 [==============================] - 1s 4ms/step - loss: 1.3103 - accuracy: 0.6382 - recall_9: 0.6413 - auc_9: 0.6878 - val_loss: 0.6240 - val_accuracy: 0.7765 - val_recall_9: 0.7901 - val_auc_9: 0.8261\n",
      "Epoch 42/50\n",
      "268/268 [==============================] - 1s 4ms/step - loss: 1.2615 - accuracy: 0.6435 - recall_9: 0.6482 - auc_9: 0.6933 - val_loss: 0.6116 - val_accuracy: 0.7718 - val_recall_9: 0.7697 - val_auc_9: 0.8278\n",
      "Epoch 43/50\n",
      "268/268 [==============================] - 1s 4ms/step - loss: 1.2031 - accuracy: 0.6485 - recall_9: 0.6496 - auc_9: 0.6998 - val_loss: 0.6086 - val_accuracy: 0.7737 - val_recall_9: 0.7913 - val_auc_9: 0.8298\n",
      "Epoch 44/50\n",
      "268/268 [==============================] - 1s 4ms/step - loss: 1.1748 - accuracy: 0.6508 - recall_9: 0.6542 - auc_9: 0.7031 - val_loss: 0.5904 - val_accuracy: 0.7726 - val_recall_9: 0.7788 - val_auc_9: 0.8320\n",
      "Epoch 45/50\n",
      "268/268 [==============================] - 1s 4ms/step - loss: 1.1351 - accuracy: 0.6531 - recall_9: 0.6501 - auc_9: 0.7057 - val_loss: 0.5888 - val_accuracy: 0.7730 - val_recall_9: 0.8018 - val_auc_9: 0.8337\n",
      "Epoch 46/50\n",
      "268/268 [==============================] - 1s 4ms/step - loss: 1.1079 - accuracy: 0.6534 - recall_9: 0.6577 - auc_9: 0.7079 - val_loss: 0.5735 - val_accuracy: 0.7762 - val_recall_9: 0.7813 - val_auc_9: 0.8358\n",
      "Epoch 47/50\n",
      "268/268 [==============================] - 1s 4ms/step - loss: 1.0878 - accuracy: 0.6553 - recall_9: 0.6574 - auc_9: 0.7091 - val_loss: 0.5675 - val_accuracy: 0.7790 - val_recall_9: 0.7927 - val_auc_9: 0.8374\n",
      "Epoch 48/50\n",
      "268/268 [==============================] - 1s 4ms/step - loss: 1.0343 - accuracy: 0.6615 - recall_9: 0.6620 - auc_9: 0.7172 - val_loss: 0.5635 - val_accuracy: 0.7796 - val_recall_9: 0.7997 - val_auc_9: 0.8385\n",
      "Epoch 49/50\n",
      "268/268 [==============================] - 1s 4ms/step - loss: 1.0184 - accuracy: 0.6578 - recall_9: 0.6590 - auc_9: 0.7161 - val_loss: 0.5591 - val_accuracy: 0.7780 - val_recall_9: 0.8057 - val_auc_9: 0.8395\n",
      "Epoch 50/50\n",
      "268/268 [==============================] - 1s 4ms/step - loss: 0.9834 - accuracy: 0.6623 - recall_9: 0.6648 - auc_9: 0.7227 - val_loss: 0.5523 - val_accuracy: 0.7798 - val_recall_9: 0.8015 - val_auc_9: 0.8408\n"
     ]
    },
    {
     "data": {
      "text/plain": [
       "<tensorflow.python.keras.callbacks.History at 0x141ae46a0c8>"
      ]
     },
     "execution_count": 151,
     "metadata": {},
     "output_type": "execute_result"
    }
   ],
   "source": [
    "model.fit(train_x,train_y,epochs=50,batch_size=128,validation_data=(valid_x,valid_y),verbose=1) #,class_weight=train_class_weight)"
   ]
  },
  {
   "cell_type": "code",
   "execution_count": 134,
   "metadata": {},
   "outputs": [],
   "source": [
    "model.save('50_epochs.h5')"
   ]
  },
  {
   "cell_type": "code",
   "execution_count": 135,
   "metadata": {},
   "outputs": [
    {
     "name": "stdout",
     "output_type": "stream",
     "text": [
      "Epoch 1/50\n",
      "268/268 [==============================] - 1s 4ms/step - loss: 1.9621 - accuracy: 0.6345 - recall_7: 0.6374 - auc_7: 0.6679 - val_loss: 0.7339 - val_accuracy: 0.7474 - val_recall_7: 0.7441 - val_auc_7: 0.8148\n",
      "Epoch 2/50\n",
      "268/268 [==============================] - 1s 4ms/step - loss: 1.8986 - accuracy: 0.6391 - recall_7: 0.6437 - auc_7: 0.6754 - val_loss: 0.7206 - val_accuracy: 0.7476 - val_recall_7: 0.7418 - val_auc_7: 0.8164\n",
      "Epoch 3/50\n",
      "268/268 [==============================] - 1s 4ms/step - loss: 1.8648 - accuracy: 0.6378 - recall_7: 0.6447 - auc_7: 0.6755 - val_loss: 0.7081 - val_accuracy: 0.7520 - val_recall_7: 0.7372 - val_auc_7: 0.8186\n",
      "Epoch 4/50\n",
      "268/268 [==============================] - 1s 4ms/step - loss: 1.8160 - accuracy: 0.6401 - recall_7: 0.6414 - auc_7: 0.6776 - val_loss: 0.6988 - val_accuracy: 0.7512 - val_recall_7: 0.7392 - val_auc_7: 0.8205\n",
      "Epoch 5/50\n",
      "268/268 [==============================] - 1s 4ms/step - loss: 1.7959 - accuracy: 0.6369 - recall_7: 0.6412 - auc_7: 0.6767 - val_loss: 0.6870 - val_accuracy: 0.7516 - val_recall_7: 0.7314 - val_auc_7: 0.8224\n",
      "Epoch 6/50\n",
      "268/268 [==============================] - 1s 4ms/step - loss: 1.7496 - accuracy: 0.6427 - recall_7: 0.6443 - auc_7: 0.6834 - val_loss: 0.6824 - val_accuracy: 0.7514 - val_recall_7: 0.7469 - val_auc_7: 0.8235\n",
      "Epoch 7/50\n",
      "268/268 [==============================] - 1s 4ms/step - loss: 1.7101 - accuracy: 0.6450 - recall_7: 0.6502 - auc_7: 0.6842 - val_loss: 0.6726 - val_accuracy: 0.7509 - val_recall_7: 0.7439 - val_auc_7: 0.8254\n",
      "Epoch 8/50\n",
      "268/268 [==============================] - 1s 4ms/step - loss: 1.6668 - accuracy: 0.6427 - recall_7: 0.6449 - auc_7: 0.6830 - val_loss: 0.6728 - val_accuracy: 0.7512 - val_recall_7: 0.7616 - val_auc_7: 0.8265\n",
      "Epoch 9/50\n",
      "268/268 [==============================] - 1s 4ms/step - loss: 1.6425 - accuracy: 0.6449 - recall_7: 0.6487 - auc_7: 0.6869 - val_loss: 0.6580 - val_accuracy: 0.7544 - val_recall_7: 0.7479 - val_auc_7: 0.8284\n",
      "Epoch 10/50\n",
      "268/268 [==============================] - 1s 4ms/step - loss: 1.6309 - accuracy: 0.6456 - recall_7: 0.6479 - auc_7: 0.6862 - val_loss: 0.6471 - val_accuracy: 0.7554 - val_recall_7: 0.7543 - val_auc_7: 0.8304\n",
      "Epoch 11/50\n",
      "268/268 [==============================] - 1s 4ms/step - loss: 1.5509 - accuracy: 0.6509 - recall_7: 0.6539 - auc_7: 0.6959 - val_loss: 0.6428 - val_accuracy: 0.7545 - val_recall_7: 0.7581 - val_auc_7: 0.8315\n",
      "Epoch 12/50\n",
      "268/268 [==============================] - 1s 4ms/step - loss: 1.5342 - accuracy: 0.6482 - recall_7: 0.6492 - auc_7: 0.6948 - val_loss: 0.6385 - val_accuracy: 0.7599 - val_recall_7: 0.7732 - val_auc_7: 0.8327\n",
      "Epoch 13/50\n",
      "268/268 [==============================] - 1s 4ms/step - loss: 1.4698 - accuracy: 0.6555 - recall_7: 0.6582 - auc_7: 0.7028 - val_loss: 0.6237 - val_accuracy: 0.7586 - val_recall_7: 0.7558 - val_auc_7: 0.8347\n",
      "Epoch 14/50\n",
      "268/268 [==============================] - 1s 4ms/step - loss: 1.4450 - accuracy: 0.6556 - recall_7: 0.6564 - auc_7: 0.7020 - val_loss: 0.6187 - val_accuracy: 0.7626 - val_recall_7: 0.7685 - val_auc_7: 0.8363\n",
      "Epoch 15/50\n",
      "268/268 [==============================] - 1s 4ms/step - loss: 1.4167 - accuracy: 0.6575 - recall_7: 0.6627 - auc_7: 0.7064 - val_loss: 0.6081 - val_accuracy: 0.7621 - val_recall_7: 0.7608 - val_auc_7: 0.8377\n",
      "Epoch 16/50\n",
      "268/268 [==============================] - 1s 4ms/step - loss: 1.3976 - accuracy: 0.6594 - recall_7: 0.6627 - auc_7: 0.7058 - val_loss: 0.6007 - val_accuracy: 0.7636 - val_recall_7: 0.7567 - val_auc_7: 0.8391\n",
      "Epoch 17/50\n",
      "268/268 [==============================] - 1s 4ms/step - loss: 1.3754 - accuracy: 0.6600 - recall_7: 0.6581 - auc_7: 0.7079 - val_loss: 0.6038 - val_accuracy: 0.7637 - val_recall_7: 0.7829 - val_auc_7: 0.8403\n",
      "Epoch 18/50\n",
      "268/268 [==============================] - 1s 4ms/step - loss: 1.3436 - accuracy: 0.6609 - recall_7: 0.6623 - auc_7: 0.7098 - val_loss: 0.5914 - val_accuracy: 0.7654 - val_recall_7: 0.7739 - val_auc_7: 0.8417\n",
      "Epoch 19/50\n",
      "268/268 [==============================] - 1s 4ms/step - loss: 1.3108 - accuracy: 0.6627 - recall_7: 0.6634 - auc_7: 0.7126 - val_loss: 0.5802 - val_accuracy: 0.7667 - val_recall_7: 0.7615 - val_auc_7: 0.8434\n",
      "Epoch 20/50\n",
      "268/268 [==============================] - 1s 4ms/step - loss: 1.2810 - accuracy: 0.6624 - recall_7: 0.6626 - auc_7: 0.7143 - val_loss: 0.5752 - val_accuracy: 0.7659 - val_recall_7: 0.7711 - val_auc_7: 0.8448\n",
      "Epoch 21/50\n",
      "268/268 [==============================] - 1s 4ms/step - loss: 1.2573 - accuracy: 0.6671 - recall_7: 0.6684 - auc_7: 0.7166 - val_loss: 0.5679 - val_accuracy: 0.7656 - val_recall_7: 0.7694 - val_auc_7: 0.8467\n",
      "Epoch 22/50\n",
      "268/268 [==============================] - 1s 4ms/step - loss: 1.2151 - accuracy: 0.6673 - recall_7: 0.6695 - auc_7: 0.7216 - val_loss: 0.5628 - val_accuracy: 0.7679 - val_recall_7: 0.7727 - val_auc_7: 0.8480\n",
      "Epoch 23/50\n",
      "268/268 [==============================] - 1s 4ms/step - loss: 1.2061 - accuracy: 0.6684 - recall_7: 0.6695 - auc_7: 0.7224 - val_loss: 0.5545 - val_accuracy: 0.7663 - val_recall_7: 0.7665 - val_auc_7: 0.8493\n",
      "Epoch 24/50\n",
      "268/268 [==============================] - 1s 4ms/step - loss: 1.1836 - accuracy: 0.6700 - recall_7: 0.6672 - auc_7: 0.7248 - val_loss: 0.5570 - val_accuracy: 0.7768 - val_recall_7: 0.8027 - val_auc_7: 0.8507\n",
      "Epoch 25/50\n",
      "268/268 [==============================] - 1s 4ms/step - loss: 1.1421 - accuracy: 0.6736 - recall_7: 0.6756 - auc_7: 0.7289 - val_loss: 0.5474 - val_accuracy: 0.7762 - val_recall_7: 0.7952 - val_auc_7: 0.8520\n",
      "Epoch 26/50\n",
      "268/268 [==============================] - 1s 4ms/step - loss: 1.1358 - accuracy: 0.6720 - recall_7: 0.6740 - auc_7: 0.7280 - val_loss: 0.5397 - val_accuracy: 0.7771 - val_recall_7: 0.7932 - val_auc_7: 0.8532\n",
      "Epoch 27/50\n",
      "268/268 [==============================] - 1s 4ms/step - loss: 1.1034 - accuracy: 0.6757 - recall_7: 0.6754 - auc_7: 0.7326 - val_loss: 0.5321 - val_accuracy: 0.7781 - val_recall_7: 0.7869 - val_auc_7: 0.8547\n",
      "Epoch 28/50\n",
      "268/268 [==============================] - 1s 4ms/step - loss: 1.0822 - accuracy: 0.6789 - recall_7: 0.6783 - auc_7: 0.7364 - val_loss: 0.5332 - val_accuracy: 0.7804 - val_recall_7: 0.8125 - val_auc_7: 0.8556\n",
      "Epoch 29/50\n",
      "268/268 [==============================] - 1s 4ms/step - loss: 1.0548 - accuracy: 0.6786 - recall_7: 0.6802 - auc_7: 0.7370 - val_loss: 0.5242 - val_accuracy: 0.7818 - val_recall_7: 0.7990 - val_auc_7: 0.8573\n",
      "Epoch 30/50\n",
      "268/268 [==============================] - 1s 4ms/step - loss: 1.0562 - accuracy: 0.6780 - recall_7: 0.6771 - auc_7: 0.7346 - val_loss: 0.5260 - val_accuracy: 0.7808 - val_recall_7: 0.8192 - val_auc_7: 0.8582\n",
      "Epoch 31/50\n",
      "268/268 [==============================] - 1s 4ms/step - loss: 1.0309 - accuracy: 0.6808 - recall_7: 0.6831 - auc_7: 0.7402 - val_loss: 0.5157 - val_accuracy: 0.7885 - val_recall_7: 0.8009 - val_auc_7: 0.8593\n",
      "Epoch 32/50\n",
      "268/268 [==============================] - 1s 4ms/step - loss: 1.0023 - accuracy: 0.6810 - recall_7: 0.6832 - auc_7: 0.7417 - val_loss: 0.5118 - val_accuracy: 0.7877 - val_recall_7: 0.7953 - val_auc_7: 0.8599\n",
      "Epoch 33/50\n",
      "268/268 [==============================] - 1s 4ms/step - loss: 0.9756 - accuracy: 0.6905 - recall_7: 0.6891 - auc_7: 0.7477 - val_loss: 0.5097 - val_accuracy: 0.7911 - val_recall_7: 0.8117 - val_auc_7: 0.8611\n",
      "Epoch 34/50\n",
      "268/268 [==============================] - 1s 4ms/step - loss: 0.9660 - accuracy: 0.6858 - recall_7: 0.6874 - auc_7: 0.7471 - val_loss: 0.5035 - val_accuracy: 0.7920 - val_recall_7: 0.8029 - val_auc_7: 0.8620\n",
      "Epoch 35/50\n",
      "268/268 [==============================] - 1s 4ms/step - loss: 0.9482 - accuracy: 0.6862 - recall_7: 0.6864 - auc_7: 0.7481 - val_loss: 0.5020 - val_accuracy: 0.7854 - val_recall_7: 0.8085 - val_auc_7: 0.8629\n",
      "Epoch 36/50\n",
      "268/268 [==============================] - 1s 4ms/step - loss: 0.9243 - accuracy: 0.6921 - recall_7: 0.6904 - auc_7: 0.7507 - val_loss: 0.4945 - val_accuracy: 0.7904 - val_recall_7: 0.7871 - val_auc_7: 0.8639\n",
      "Epoch 37/50\n",
      "268/268 [==============================] - 1s 4ms/step - loss: 0.9283 - accuracy: 0.6852 - recall_7: 0.6831 - auc_7: 0.7478 - val_loss: 0.4950 - val_accuracy: 0.7855 - val_recall_7: 0.7999 - val_auc_7: 0.8643\n",
      "Epoch 38/50\n",
      "268/268 [==============================] - 1s 5ms/step - loss: 0.9193 - accuracy: 0.6910 - recall_7: 0.6883 - auc_7: 0.7512 - val_loss: 0.4924 - val_accuracy: 0.7847 - val_recall_7: 0.8048 - val_auc_7: 0.8652\n",
      "Epoch 39/50\n",
      "268/268 [==============================] - 1s 4ms/step - loss: 0.8760 - accuracy: 0.6912 - recall_7: 0.6893 - auc_7: 0.7574 - val_loss: 0.4923 - val_accuracy: 0.7842 - val_recall_7: 0.8132 - val_auc_7: 0.8659\n",
      "Epoch 40/50\n",
      "268/268 [==============================] - 1s 4ms/step - loss: 0.8618 - accuracy: 0.6950 - recall_7: 0.6945 - auc_7: 0.7598 - val_loss: 0.4892 - val_accuracy: 0.7840 - val_recall_7: 0.8066 - val_auc_7: 0.8669\n",
      "Epoch 41/50\n",
      "268/268 [==============================] - 1s 4ms/step - loss: 0.8523 - accuracy: 0.6962 - recall_7: 0.6955 - auc_7: 0.7611 - val_loss: 0.4866 - val_accuracy: 0.7870 - val_recall_7: 0.8088 - val_auc_7: 0.8679\n",
      "Epoch 42/50\n",
      "268/268 [==============================] - 1s 5ms/step - loss: 0.8394 - accuracy: 0.6972 - recall_7: 0.6984 - auc_7: 0.7619 - val_loss: 0.4834 - val_accuracy: 0.7876 - val_recall_7: 0.8059 - val_auc_7: 0.8689\n",
      "Epoch 43/50\n",
      "268/268 [==============================] - 1s 4ms/step - loss: 0.8204 - accuracy: 0.6998 - recall_7: 0.7001 - auc_7: 0.7661 - val_loss: 0.4790 - val_accuracy: 0.7955 - val_recall_7: 0.8008 - val_auc_7: 0.8701\n",
      "Epoch 44/50\n",
      "268/268 [==============================] - 1s 4ms/step - loss: 0.8009 - accuracy: 0.7046 - recall_7: 0.7043 - auc_7: 0.7702 - val_loss: 0.4765 - val_accuracy: 0.7940 - val_recall_7: 0.8090 - val_auc_7: 0.8716\n",
      "Epoch 45/50\n",
      "268/268 [==============================] - 1s 4ms/step - loss: 0.7841 - accuracy: 0.7071 - recall_7: 0.7072 - auc_7: 0.7742 - val_loss: 0.4746 - val_accuracy: 0.7969 - val_recall_7: 0.8231 - val_auc_7: 0.8733\n",
      "Epoch 46/50\n",
      "268/268 [==============================] - 1s 4ms/step - loss: 0.7884 - accuracy: 0.7050 - recall_7: 0.7032 - auc_7: 0.7707 - val_loss: 0.4684 - val_accuracy: 0.7967 - val_recall_7: 0.8015 - val_auc_7: 0.8741\n",
      "Epoch 47/50\n",
      "268/268 [==============================] - 1s 4ms/step - loss: 0.7675 - accuracy: 0.7101 - recall_7: 0.7088 - auc_7: 0.7760 - val_loss: 0.4650 - val_accuracy: 0.7990 - val_recall_7: 0.7995 - val_auc_7: 0.8750\n",
      "Epoch 48/50\n",
      "268/268 [==============================] - 1s 4ms/step - loss: 0.7537 - accuracy: 0.7108 - recall_7: 0.7101 - auc_7: 0.7783 - val_loss: 0.4622 - val_accuracy: 0.7985 - val_recall_7: 0.7959 - val_auc_7: 0.8758\n",
      "Epoch 49/50\n",
      "268/268 [==============================] - 1s 4ms/step - loss: 0.7485 - accuracy: 0.7110 - recall_7: 0.7101 - auc_7: 0.7781 - val_loss: 0.4603 - val_accuracy: 0.7999 - val_recall_7: 0.8001 - val_auc_7: 0.8764\n",
      "Epoch 50/50\n",
      "268/268 [==============================] - 1s 4ms/step - loss: 0.7374 - accuracy: 0.7125 - recall_7: 0.7118 - auc_7: 0.7806 - val_loss: 0.4591 - val_accuracy: 0.7995 - val_recall_7: 0.7995 - val_auc_7: 0.8769\n"
     ]
    },
    {
     "data": {
      "text/plain": [
       "<tensorflow.python.keras.callbacks.History at 0x141976ed108>"
      ]
     },
     "execution_count": 135,
     "metadata": {},
     "output_type": "execute_result"
    }
   ],
   "source": [
    "model.fit(train_x,train_y,epochs=50,batch_size=128,validation_data=(valid_x,valid_y),verbose=1) #,class_weight=train_class_weight)"
   ]
  },
  {
   "cell_type": "code",
   "execution_count": 152,
   "metadata": {},
   "outputs": [],
   "source": [
    "# model.predict_classes(valid_x)\n",
    "preds = (model.predict(valid_x) > 0.5).astype(\"int32\").flatten()"
   ]
  },
  {
   "cell_type": "code",
   "execution_count": 153,
   "metadata": {},
   "outputs": [
    {
     "data": {
      "text/plain": [
       "0.8014744602422328"
      ]
     },
     "execution_count": 153,
     "metadata": {},
     "output_type": "execute_result"
    }
   ],
   "source": [
    "eval_metric(valid_y,preds)"
   ]
  },
  {
   "cell_type": "code",
   "execution_count": 154,
   "metadata": {},
   "outputs": [],
   "source": [
    "preds = (model.predict(test_df_1) > 0.5).astype(\"int32\").flatten()"
   ]
  },
  {
   "cell_type": "code",
   "execution_count": 155,
   "metadata": {},
   "outputs": [],
   "source": [
    "sub['MULTIPLE_OFFENSE'] = preds\n"
   ]
  },
  {
   "cell_type": "code",
   "execution_count": 156,
   "metadata": {},
   "outputs": [],
   "source": [
    "sub.to_csv('tmp.csv',index=False)"
   ]
  },
  {
   "cell_type": "code",
   "execution_count": null,
   "metadata": {},
   "outputs": [],
   "source": []
  }
 ],
 "metadata": {
  "kernelspec": {
   "display_name": "Python (tensorflow)",
   "language": "python",
   "name": "tensorflow"
  },
  "language_info": {
   "codemirror_mode": {
    "name": "ipython",
    "version": 3
   },
   "file_extension": ".py",
   "mimetype": "text/x-python",
   "name": "python",
   "nbconvert_exporter": "python",
   "pygments_lexer": "ipython3",
   "version": "3.7.5"
  }
 },
 "nbformat": 4,
 "nbformat_minor": 4
}
