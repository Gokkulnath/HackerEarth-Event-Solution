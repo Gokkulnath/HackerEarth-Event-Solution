{
 "cells": [
  {
   "cell_type": "code",
   "execution_count": 50,
   "metadata": {},
   "outputs": [],
   "source": [
    "import pandas as pd\n",
    "import numpy as np\n",
    "import os\n"
   ]
  },
  {
   "cell_type": "code",
   "execution_count": 2,
   "metadata": {},
   "outputs": [],
   "source": [
    "train_df =pd.read_csv('Dataset/Train.csv')\n",
    "test_df =pd.read_csv('Dataset/Test.csv')"
   ]
  },
  {
   "cell_type": "code",
   "execution_count": 3,
   "metadata": {},
   "outputs": [
    {
     "data": {
      "text/plain": [
       "{1: 'yes', 0: 'No'}"
      ]
     },
     "execution_count": 3,
     "metadata": {},
     "output_type": "execute_result"
    }
   ],
   "source": [
    "{1:\"yes\",0:\"No\"}"
   ]
  },
  {
   "cell_type": "code",
   "execution_count": 4,
   "metadata": {
    "scrolled": true
   },
   "outputs": [
    {
     "data": {
      "text/html": [
       "<div>\n",
       "<style scoped>\n",
       "    .dataframe tbody tr th:only-of-type {\n",
       "        vertical-align: middle;\n",
       "    }\n",
       "\n",
       "    .dataframe tbody tr th {\n",
       "        vertical-align: top;\n",
       "    }\n",
       "\n",
       "    .dataframe thead th {\n",
       "        text-align: right;\n",
       "    }\n",
       "</style>\n",
       "<table border=\"1\" class=\"dataframe\">\n",
       "  <thead>\n",
       "    <tr style=\"text-align: right;\">\n",
       "      <th></th>\n",
       "      <th>INCIDENT_ID</th>\n",
       "      <th>DATE</th>\n",
       "      <th>X_1</th>\n",
       "      <th>X_2</th>\n",
       "      <th>X_3</th>\n",
       "      <th>X_4</th>\n",
       "      <th>X_5</th>\n",
       "      <th>X_6</th>\n",
       "      <th>X_7</th>\n",
       "      <th>X_8</th>\n",
       "      <th>X_9</th>\n",
       "      <th>X_10</th>\n",
       "      <th>X_11</th>\n",
       "      <th>X_12</th>\n",
       "      <th>X_13</th>\n",
       "      <th>X_14</th>\n",
       "      <th>X_15</th>\n",
       "      <th>MULTIPLE_OFFENSE</th>\n",
       "    </tr>\n",
       "  </thead>\n",
       "  <tbody>\n",
       "    <tr>\n",
       "      <th>0</th>\n",
       "      <td>CR_102659</td>\n",
       "      <td>04-JUL-04</td>\n",
       "      <td>0</td>\n",
       "      <td>36</td>\n",
       "      <td>34</td>\n",
       "      <td>2</td>\n",
       "      <td>1</td>\n",
       "      <td>5</td>\n",
       "      <td>6</td>\n",
       "      <td>1</td>\n",
       "      <td>6</td>\n",
       "      <td>1</td>\n",
       "      <td>174</td>\n",
       "      <td>1.0</td>\n",
       "      <td>92</td>\n",
       "      <td>29</td>\n",
       "      <td>36</td>\n",
       "      <td>0</td>\n",
       "    </tr>\n",
       "    <tr>\n",
       "      <th>1</th>\n",
       "      <td>CR_189752</td>\n",
       "      <td>18-JUL-17</td>\n",
       "      <td>1</td>\n",
       "      <td>37</td>\n",
       "      <td>37</td>\n",
       "      <td>0</td>\n",
       "      <td>0</td>\n",
       "      <td>11</td>\n",
       "      <td>17</td>\n",
       "      <td>1</td>\n",
       "      <td>6</td>\n",
       "      <td>1</td>\n",
       "      <td>236</td>\n",
       "      <td>1.0</td>\n",
       "      <td>103</td>\n",
       "      <td>142</td>\n",
       "      <td>34</td>\n",
       "      <td>1</td>\n",
       "    </tr>\n",
       "    <tr>\n",
       "      <th>2</th>\n",
       "      <td>CR_184637</td>\n",
       "      <td>15-MAR-17</td>\n",
       "      <td>0</td>\n",
       "      <td>3</td>\n",
       "      <td>2</td>\n",
       "      <td>3</td>\n",
       "      <td>5</td>\n",
       "      <td>1</td>\n",
       "      <td>0</td>\n",
       "      <td>2</td>\n",
       "      <td>3</td>\n",
       "      <td>1</td>\n",
       "      <td>174</td>\n",
       "      <td>1.0</td>\n",
       "      <td>110</td>\n",
       "      <td>93</td>\n",
       "      <td>34</td>\n",
       "      <td>1</td>\n",
       "    </tr>\n",
       "    <tr>\n",
       "      <th>3</th>\n",
       "      <td>CR_139071</td>\n",
       "      <td>13-FEB-09</td>\n",
       "      <td>0</td>\n",
       "      <td>33</td>\n",
       "      <td>32</td>\n",
       "      <td>2</td>\n",
       "      <td>1</td>\n",
       "      <td>7</td>\n",
       "      <td>1</td>\n",
       "      <td>1</td>\n",
       "      <td>6</td>\n",
       "      <td>1</td>\n",
       "      <td>249</td>\n",
       "      <td>1.0</td>\n",
       "      <td>72</td>\n",
       "      <td>29</td>\n",
       "      <td>34</td>\n",
       "      <td>1</td>\n",
       "    </tr>\n",
       "    <tr>\n",
       "      <th>4</th>\n",
       "      <td>CR_109335</td>\n",
       "      <td>13-APR-05</td>\n",
       "      <td>0</td>\n",
       "      <td>33</td>\n",
       "      <td>32</td>\n",
       "      <td>2</td>\n",
       "      <td>1</td>\n",
       "      <td>8</td>\n",
       "      <td>3</td>\n",
       "      <td>0</td>\n",
       "      <td>5</td>\n",
       "      <td>1</td>\n",
       "      <td>174</td>\n",
       "      <td>0.0</td>\n",
       "      <td>112</td>\n",
       "      <td>29</td>\n",
       "      <td>43</td>\n",
       "      <td>1</td>\n",
       "    </tr>\n",
       "  </tbody>\n",
       "</table>\n",
       "</div>"
      ],
      "text/plain": [
       "  INCIDENT_ID       DATE  X_1  X_2  X_3  X_4  X_5  X_6  X_7  X_8  X_9  X_10  \\\n",
       "0   CR_102659  04-JUL-04    0   36   34    2    1    5    6    1    6     1   \n",
       "1   CR_189752  18-JUL-17    1   37   37    0    0   11   17    1    6     1   \n",
       "2   CR_184637  15-MAR-17    0    3    2    3    5    1    0    2    3     1   \n",
       "3   CR_139071  13-FEB-09    0   33   32    2    1    7    1    1    6     1   \n",
       "4   CR_109335  13-APR-05    0   33   32    2    1    8    3    0    5     1   \n",
       "\n",
       "   X_11  X_12  X_13  X_14  X_15  MULTIPLE_OFFENSE  \n",
       "0   174   1.0    92    29    36                 0  \n",
       "1   236   1.0   103   142    34                 1  \n",
       "2   174   1.0   110    93    34                 1  \n",
       "3   249   1.0    72    29    34                 1  \n",
       "4   174   0.0   112    29    43                 1  "
      ]
     },
     "execution_count": 4,
     "metadata": {},
     "output_type": "execute_result"
    }
   ],
   "source": [
    "train_df.head()"
   ]
  },
  {
   "cell_type": "code",
   "execution_count": 5,
   "metadata": {},
   "outputs": [
    {
     "data": {
      "text/html": [
       "<div>\n",
       "<style scoped>\n",
       "    .dataframe tbody tr th:only-of-type {\n",
       "        vertical-align: middle;\n",
       "    }\n",
       "\n",
       "    .dataframe tbody tr th {\n",
       "        vertical-align: top;\n",
       "    }\n",
       "\n",
       "    .dataframe thead th {\n",
       "        text-align: right;\n",
       "    }\n",
       "</style>\n",
       "<table border=\"1\" class=\"dataframe\">\n",
       "  <thead>\n",
       "    <tr style=\"text-align: right;\">\n",
       "      <th></th>\n",
       "      <th>INCIDENT_ID</th>\n",
       "      <th>DATE</th>\n",
       "      <th>X_1</th>\n",
       "      <th>X_2</th>\n",
       "      <th>X_3</th>\n",
       "      <th>X_4</th>\n",
       "      <th>X_5</th>\n",
       "      <th>X_6</th>\n",
       "      <th>X_7</th>\n",
       "      <th>X_8</th>\n",
       "      <th>X_9</th>\n",
       "      <th>X_10</th>\n",
       "      <th>X_11</th>\n",
       "      <th>X_12</th>\n",
       "      <th>X_13</th>\n",
       "      <th>X_14</th>\n",
       "      <th>X_15</th>\n",
       "    </tr>\n",
       "  </thead>\n",
       "  <tbody>\n",
       "    <tr>\n",
       "      <th>0</th>\n",
       "      <td>CR_195453</td>\n",
       "      <td>01-FEB-18</td>\n",
       "      <td>0</td>\n",
       "      <td>30</td>\n",
       "      <td>35</td>\n",
       "      <td>7</td>\n",
       "      <td>3</td>\n",
       "      <td>6</td>\n",
       "      <td>4</td>\n",
       "      <td>0</td>\n",
       "      <td>5</td>\n",
       "      <td>1</td>\n",
       "      <td>174</td>\n",
       "      <td>NaN</td>\n",
       "      <td>72</td>\n",
       "      <td>119</td>\n",
       "      <td>23</td>\n",
       "    </tr>\n",
       "    <tr>\n",
       "      <th>1</th>\n",
       "      <td>CR_103520</td>\n",
       "      <td>05-MAR-04</td>\n",
       "      <td>0</td>\n",
       "      <td>44</td>\n",
       "      <td>44</td>\n",
       "      <td>1</td>\n",
       "      <td>3</td>\n",
       "      <td>7</td>\n",
       "      <td>1</td>\n",
       "      <td>4</td>\n",
       "      <td>6</td>\n",
       "      <td>1</td>\n",
       "      <td>316</td>\n",
       "      <td>0.0</td>\n",
       "      <td>12</td>\n",
       "      <td>29</td>\n",
       "      <td>34</td>\n",
       "    </tr>\n",
       "    <tr>\n",
       "      <th>2</th>\n",
       "      <td>CR_196089</td>\n",
       "      <td>27-JAN-18</td>\n",
       "      <td>0</td>\n",
       "      <td>34</td>\n",
       "      <td>33</td>\n",
       "      <td>3</td>\n",
       "      <td>5</td>\n",
       "      <td>2</td>\n",
       "      <td>7</td>\n",
       "      <td>3</td>\n",
       "      <td>0</td>\n",
       "      <td>1</td>\n",
       "      <td>316</td>\n",
       "      <td>1.0</td>\n",
       "      <td>72</td>\n",
       "      <td>0</td>\n",
       "      <td>34</td>\n",
       "    </tr>\n",
       "    <tr>\n",
       "      <th>3</th>\n",
       "      <td>CR_112195</td>\n",
       "      <td>18-AUG-06</td>\n",
       "      <td>7</td>\n",
       "      <td>3</td>\n",
       "      <td>2</td>\n",
       "      <td>3</td>\n",
       "      <td>5</td>\n",
       "      <td>9</td>\n",
       "      <td>8</td>\n",
       "      <td>0</td>\n",
       "      <td>5</td>\n",
       "      <td>1</td>\n",
       "      <td>174</td>\n",
       "      <td>1.0</td>\n",
       "      <td>112</td>\n",
       "      <td>87</td>\n",
       "      <td>34</td>\n",
       "    </tr>\n",
       "    <tr>\n",
       "      <th>4</th>\n",
       "      <td>CR_149832</td>\n",
       "      <td>31-OCT-11</td>\n",
       "      <td>0</td>\n",
       "      <td>7</td>\n",
       "      <td>8</td>\n",
       "      <td>7</td>\n",
       "      <td>3</td>\n",
       "      <td>2</td>\n",
       "      <td>7</td>\n",
       "      <td>1</td>\n",
       "      <td>5</td>\n",
       "      <td>1</td>\n",
       "      <td>174</td>\n",
       "      <td>0.0</td>\n",
       "      <td>112</td>\n",
       "      <td>93</td>\n",
       "      <td>43</td>\n",
       "    </tr>\n",
       "  </tbody>\n",
       "</table>\n",
       "</div>"
      ],
      "text/plain": [
       "  INCIDENT_ID       DATE  X_1  X_2  X_3  X_4  X_5  X_6  X_7  X_8  X_9  X_10  \\\n",
       "0   CR_195453  01-FEB-18    0   30   35    7    3    6    4    0    5     1   \n",
       "1   CR_103520  05-MAR-04    0   44   44    1    3    7    1    4    6     1   \n",
       "2   CR_196089  27-JAN-18    0   34   33    3    5    2    7    3    0     1   \n",
       "3   CR_112195  18-AUG-06    7    3    2    3    5    9    8    0    5     1   \n",
       "4   CR_149832  31-OCT-11    0    7    8    7    3    2    7    1    5     1   \n",
       "\n",
       "   X_11  X_12  X_13  X_14  X_15  \n",
       "0   174   NaN    72   119    23  \n",
       "1   316   0.0    12    29    34  \n",
       "2   316   1.0    72     0    34  \n",
       "3   174   1.0   112    87    34  \n",
       "4   174   0.0   112    93    43  "
      ]
     },
     "execution_count": 5,
     "metadata": {},
     "output_type": "execute_result"
    }
   ],
   "source": [
    "test_df.head()"
   ]
  },
  {
   "cell_type": "code",
   "execution_count": 6,
   "metadata": {},
   "outputs": [],
   "source": [
    "sub = pd.DataFrame()\n",
    "sub['INCIDENT_ID'] = test_df['INCIDENT_ID']"
   ]
  },
  {
   "cell_type": "code",
   "execution_count": 7,
   "metadata": {},
   "outputs": [],
   "source": [
    "sub['MULTIPLE_OFFENSE'] = 1\n"
   ]
  },
  {
   "cell_type": "code",
   "execution_count": 8,
   "metadata": {},
   "outputs": [],
   "source": [
    "sub.to_csv('All_1.csv',index=False)"
   ]
  },
  {
   "cell_type": "code",
   "execution_count": null,
   "metadata": {},
   "outputs": [],
   "source": []
  },
  {
   "cell_type": "code",
   "execution_count": 9,
   "metadata": {},
   "outputs": [],
   "source": [
    "from sklearn.metrics import recall_score\n",
    "def eval_metric(actual,preds):\n",
    "    return recall_score(actual,preds)\n",
    "    \n",
    "    "
   ]
  },
  {
   "cell_type": "code",
   "execution_count": 10,
   "metadata": {},
   "outputs": [
    {
     "data": {
      "text/plain": [
       "(1    22788\n",
       " 0     1068\n",
       " Name: MULTIPLE_OFFENSE, dtype: int64, 1    0.955231\n",
       " 0    0.044769\n",
       " Name: MULTIPLE_OFFENSE, dtype: float64)"
      ]
     },
     "execution_count": 10,
     "metadata": {},
     "output_type": "execute_result"
    }
   ],
   "source": [
    "train_df['MULTIPLE_OFFENSE'].value_counts(),train_df['MULTIPLE_OFFENSE'].value_counts(True)"
   ]
  },
  {
   "cell_type": "code",
   "execution_count": 11,
   "metadata": {},
   "outputs": [],
   "source": [
    "from sklearn.model_selection import train_test_split\n",
    "\n",
    "train_df_1 = train_df.drop(['DATE','INCIDENT_ID'],axis=1)\n",
    "train_df_1['X_12']= train_df_1['X_12'].fillna(-1.0)\n",
    "\n",
    "train_x, valid_x,train_y,valid_y = train_test_split(train_df_1.drop(['MULTIPLE_OFFENSE'],axis=1),train_df_1['MULTIPLE_OFFENSE'],stratify=train_df_1['MULTIPLE_OFFENSE'])"
   ]
  },
  {
   "cell_type": "code",
   "execution_count": null,
   "metadata": {},
   "outputs": [],
   "source": [
    "train_x.shape,train_y.shape, valid_x.shape,valid_y.shape"
   ]
  },
  {
   "cell_type": "code",
   "execution_count": null,
   "metadata": {},
   "outputs": [],
   "source": [
    "train_df.info()"
   ]
  },
  {
   "cell_type": "code",
   "execution_count": null,
   "metadata": {},
   "outputs": [],
   "source": [
    "train_df.corr()['MULTIPLE_OFFENSE']"
   ]
  },
  {
   "cell_type": "code",
   "execution_count": null,
   "metadata": {},
   "outputs": [],
   "source": [
    "from sklearn.linear_model import LogisticRegression\n",
    "from sklearn.neighbors import KNeighborsClassifier"
   ]
  },
  {
   "cell_type": "code",
   "execution_count": null,
   "metadata": {},
   "outputs": [],
   "source": [
    "clf = LogisticRegression(random_state=0)"
   ]
  },
  {
   "cell_type": "code",
   "execution_count": null,
   "metadata": {
    "scrolled": true
   },
   "outputs": [],
   "source": [
    "clf.fit(train_x,train_y)"
   ]
  },
  {
   "cell_type": "code",
   "execution_count": null,
   "metadata": {},
   "outputs": [],
   "source": [
    "clf = KNeighborsClassifier().fit(train_x,train_y)"
   ]
  },
  {
   "cell_type": "code",
   "execution_count": null,
   "metadata": {},
   "outputs": [],
   "source": [
    "preds = clf.predict(valid_x)\n",
    "eval_metric(valid_y,preds)"
   ]
  },
  {
   "cell_type": "code",
   "execution_count": 45,
   "metadata": {},
   "outputs": [],
   "source": [
    "def preprocessing(df):\n",
    "    df['X_12']= df['X_12'].fillna(-1.0)\n",
    "    return df"
   ]
  },
  {
   "cell_type": "code",
   "execution_count": null,
   "metadata": {},
   "outputs": [],
   "source": []
  },
  {
   "cell_type": "code",
   "execution_count": 46,
   "metadata": {},
   "outputs": [],
   "source": [
    "test_df= pd.read_csv('Dataset/Test.csv')\n",
    "ignore_cols =['DATE','INCIDENT_ID']\n",
    "test_df_1 = test_df.drop(ignore_cols,axis=1)\n",
    "test_df_1 = preprocessing(test_df_1)\n"
   ]
  },
  {
   "cell_type": "code",
   "execution_count": null,
   "metadata": {},
   "outputs": [],
   "source": [
    "preds = clf.predict(test_df_1)"
   ]
  },
  {
   "cell_type": "code",
   "execution_count": null,
   "metadata": {},
   "outputs": [],
   "source": [
    "sub['MULTIPLE_OFFENSE'] = preds\n"
   ]
  },
  {
   "cell_type": "code",
   "execution_count": null,
   "metadata": {
    "scrolled": true
   },
   "outputs": [],
   "source": [
    "sub.to_csv('KNN.csv',index=False)"
   ]
  },
  {
   "cell_type": "code",
   "execution_count": 248,
   "metadata": {},
   "outputs": [],
   "source": [
    "from sklearn.svm import SVC"
   ]
  },
  {
   "cell_type": "code",
   "execution_count": 257,
   "metadata": {},
   "outputs": [],
   "source": [
    "clf = SVC(C=25,random_state=42).fit(train_x,train_y)"
   ]
  },
  {
   "cell_type": "code",
   "execution_count": 258,
   "metadata": {},
   "outputs": [
    {
     "name": "stdout",
     "output_type": "stream",
     "text": [
      "0.9141653501843076\n"
     ]
    }
   ],
   "source": [
    "preds= clf.predict(valid_x)\n",
    "print(eval_metric(valid_y,preds))\n",
    "\n",
    "preds = clf.predict(test_df_1)"
   ]
  },
  {
   "cell_type": "code",
   "execution_count": 259,
   "metadata": {},
   "outputs": [],
   "source": [
    "sub['MULTIPLE_OFFENSE'] = preds\n",
    "sub.to_csv('SVC.csv',index=False)"
   ]
  },
  {
   "cell_type": "code",
   "execution_count": 227,
   "metadata": {},
   "outputs": [],
   "source": [
    "from sklearn.neural_network import MLPClassifier"
   ]
  },
  {
   "cell_type": "code",
   "execution_count": 244,
   "metadata": {
    "scrolled": true
   },
   "outputs": [
    {
     "name": "stdout",
     "output_type": "stream",
     "text": [
      "Iteration 1, loss = 0.85344915\n",
      "Iteration 2, loss = 0.52786245\n",
      "Iteration 3, loss = 0.51473890\n",
      "Iteration 4, loss = 0.50946013\n",
      "Iteration 5, loss = 0.49271054\n",
      "Iteration 6, loss = 0.49034998\n",
      "Iteration 7, loss = 0.47757003\n",
      "Iteration 8, loss = 0.47124628\n",
      "Iteration 9, loss = 0.45902614\n",
      "Iteration 10, loss = 0.45234482\n",
      "Iteration 11, loss = 0.44969960\n",
      "Iteration 12, loss = 0.44124619\n",
      "Iteration 13, loss = 0.43507719\n",
      "Iteration 14, loss = 0.42741096\n",
      "Iteration 15, loss = 0.42757733\n",
      "Iteration 16, loss = 0.42143413\n",
      "Iteration 17, loss = 0.41771419\n",
      "Iteration 18, loss = 0.41567690\n",
      "Iteration 19, loss = 0.40838448\n",
      "Iteration 20, loss = 0.39541618\n",
      "Iteration 21, loss = 0.39655390\n",
      "Iteration 22, loss = 0.39057651\n",
      "Iteration 23, loss = 0.38494118\n",
      "Iteration 24, loss = 0.38813388\n",
      "Iteration 25, loss = 0.37356600\n",
      "Iteration 26, loss = 0.38135370\n",
      "Iteration 27, loss = 0.36496743\n",
      "Iteration 28, loss = 0.36711370\n",
      "Iteration 29, loss = 0.36475201\n",
      "Iteration 30, loss = 0.35095490\n",
      "Iteration 31, loss = 0.35878814\n",
      "Iteration 32, loss = 0.34901464\n",
      "Iteration 33, loss = 0.34880683\n",
      "Iteration 34, loss = 0.33542313\n",
      "Iteration 35, loss = 0.34934932\n",
      "Iteration 36, loss = 0.33270179\n",
      "Iteration 37, loss = 0.34084004\n",
      "Iteration 38, loss = 0.33170481\n",
      "Iteration 39, loss = 0.32343849\n",
      "Iteration 40, loss = 0.33008934\n",
      "Iteration 41, loss = 0.31898719\n",
      "Iteration 42, loss = 0.31794543\n",
      "Iteration 43, loss = 0.31521045\n",
      "Iteration 44, loss = 0.31445288\n",
      "Iteration 45, loss = 0.31781280\n",
      "Iteration 46, loss = 0.30079895\n",
      "Iteration 47, loss = 0.30615778\n",
      "Iteration 48, loss = 0.29747501\n",
      "Iteration 49, loss = 0.30145296\n",
      "Iteration 50, loss = 0.28868122\n",
      "Iteration 51, loss = 0.30134955\n",
      "Iteration 52, loss = 0.28996112\n",
      "Iteration 53, loss = 0.29557291\n",
      "Iteration 54, loss = 0.28451343\n",
      "Iteration 55, loss = 0.27937976\n",
      "Iteration 56, loss = 0.29296006\n",
      "Iteration 57, loss = 0.28572475\n",
      "Iteration 58, loss = 0.26609956\n",
      "Iteration 59, loss = 0.27164744\n",
      "Iteration 60, loss = 0.27402189\n",
      "Iteration 61, loss = 0.26512247\n",
      "Iteration 62, loss = 0.27333940\n",
      "Iteration 63, loss = 0.25751577\n",
      "Iteration 64, loss = 0.26916860\n",
      "Iteration 65, loss = 0.24832500\n",
      "Iteration 66, loss = 0.25939744\n",
      "Iteration 67, loss = 0.26161901\n",
      "Iteration 68, loss = 0.25091528\n",
      "Iteration 69, loss = 0.25589629\n",
      "Iteration 70, loss = 0.24137523\n",
      "Iteration 71, loss = 0.23733773\n",
      "Iteration 72, loss = 0.26146195\n",
      "Iteration 73, loss = 0.24388178\n",
      "Iteration 74, loss = 0.31044532\n",
      "Iteration 75, loss = 0.26528209\n",
      "Iteration 76, loss = 0.26622457\n",
      "Iteration 77, loss = 0.24902624\n",
      "Iteration 78, loss = 0.26582036\n",
      "Iteration 79, loss = 0.28011131\n",
      "Iteration 80, loss = 0.25463430\n",
      "Iteration 81, loss = 0.36618192\n",
      "Iteration 82, loss = 0.29452616\n",
      "Training loss did not improve more than tol=0.000100 for 10 consecutive epochs. Stopping.\n"
     ]
    }
   ],
   "source": [
    "clf = MLPClassifier(hidden_layer_sizes=(128,32), solver='sgd',verbose=0, random_state=42).fit(train_x,train_y)"
   ]
  },
  {
   "cell_type": "code",
   "execution_count": 265,
   "metadata": {},
   "outputs": [],
   "source": [
    "clf = MLPClassifier(hidden_layer_sizes=(256,64), solver='sgd',verbose=0, random_state=42).fit(train_x,train_y)"
   ]
  },
  {
   "cell_type": "code",
   "execution_count": 266,
   "metadata": {},
   "outputs": [
    {
     "name": "stdout",
     "output_type": "stream",
     "text": [
      "0.9238195541513077\n"
     ]
    }
   ],
   "source": [
    "preds= clf.predict(valid_x)\n",
    "print(eval_metric(valid_y,preds))\n",
    "\n",
    "preds = clf.predict(test_df_1)"
   ]
  },
  {
   "cell_type": "code",
   "execution_count": 267,
   "metadata": {},
   "outputs": [],
   "source": [
    "sub['MULTIPLE_OFFENSE'] = preds\n",
    "sub.to_csv('MLPClassifier.csv',index=False)"
   ]
  },
  {
   "cell_type": "code",
   "execution_count": 269,
   "metadata": {},
   "outputs": [],
   "source": [
    "from sklearn.tree import DecisionTreeClassifier,ExtraTreeClassifier"
   ]
  },
  {
   "cell_type": "code",
   "execution_count": 291,
   "metadata": {},
   "outputs": [],
   "source": [
    "clf = DecisionTreeClassifier(max_depth=5,random_state=42).fit(train_x,train_y)"
   ]
  },
  {
   "cell_type": "code",
   "execution_count": 292,
   "metadata": {},
   "outputs": [
    {
     "name": "stdout",
     "output_type": "stream",
     "text": [
      "0.972441635948745\n"
     ]
    }
   ],
   "source": [
    "preds= clf.predict(valid_x)\n",
    "print(eval_metric(valid_y,preds))\n",
    "\n",
    "preds = clf.predict(test_df_1)"
   ]
  },
  {
   "cell_type": "code",
   "execution_count": 295,
   "metadata": {},
   "outputs": [
    {
     "data": {
      "text/plain": [
       "[('X_1', 0.0),\n",
       " ('X_2', 0.00034252048725871983),\n",
       " ('X_3', 0.0),\n",
       " ('X_4', 0.0),\n",
       " ('X_5', 0.0),\n",
       " ('X_6', 0.0),\n",
       " ('X_7', 0.0),\n",
       " ('X_8', 0.0),\n",
       " ('X_9', 0.0),\n",
       " ('X_10', 0.640964636613679),\n",
       " ('X_11', 0.163558220699704),\n",
       " ('X_12', 0.0),\n",
       " ('X_13', 0.0),\n",
       " ('X_14', 0.0),\n",
       " ('X_15', 0.1951346221993583)]"
      ]
     },
     "execution_count": 295,
     "metadata": {},
     "output_type": "execute_result"
    }
   ],
   "source": [
    "list(zip(train_x.columns,clf.feature_importances_))"
   ]
  },
  {
   "cell_type": "code",
   "execution_count": 273,
   "metadata": {},
   "outputs": [],
   "source": [
    "sub['MULTIPLE_OFFENSE'] = preds\n",
    "sub.to_csv('DecisionTreeClassifier.csv',index=False)"
   ]
  },
  {
   "cell_type": "code",
   "execution_count": 289,
   "metadata": {},
   "outputs": [
    {
     "name": "stdout",
     "output_type": "stream",
     "text": [
      "10 0.8323679129366334\n",
      "13 0.8732666315604705\n",
      "16 0.9361067228365807\n",
      "19 0.9482183605406355\n",
      "22 0.9756011936106723\n",
      "25 0.9892926101456907\n",
      "28 0.9898192030893452\n",
      "31 0.9899947340705635\n",
      "34 0.9899947340705635\n",
      "37 0.9899947340705635\n"
     ]
    }
   ],
   "source": [
    "for i in range(10,40,3):\n",
    "    clf = ExtraTreeClassifier(max_depth=i,random_state=42).fit(train_x,train_y)\n",
    "    preds= clf.predict(valid_x)\n",
    "    print(i,eval_metric(valid_y,preds))\n",
    "\n"
   ]
  },
  {
   "cell_type": "code",
   "execution_count": 290,
   "metadata": {},
   "outputs": [],
   "source": [
    "clf = ExtraTreeClassifier(max_depth=25,random_state=42).fit(train_x,train_y)\n",
    "preds = clf.predict(test_df_1)\n",
    "sub['MULTIPLE_OFFENSE'] = preds\n",
    "sub.to_csv('ExtraTreeClassifier.csv',index=False)"
   ]
  },
  {
   "cell_type": "code",
   "execution_count": 51,
   "metadata": {},
   "outputs": [],
   "source": [
    "import tensorflow as tf\n",
    "from tensorflow.keras.layers import Dense,Dropout\n",
    "from tensorflow.keras.optimizers import Adam\n",
    "from tensorflow.keras.models import Sequential"
   ]
  },
  {
   "cell_type": "code",
   "execution_count": 13,
   "metadata": {},
   "outputs": [
    {
     "data": {
      "text/plain": [
       "(5964, 15)"
      ]
     },
     "execution_count": 13,
     "metadata": {},
     "output_type": "execute_result"
    }
   ],
   "source": [
    "valid_x.shape"
   ]
  },
  {
   "cell_type": "code",
   "execution_count": 84,
   "metadata": {},
   "outputs": [
    {
     "data": {
      "text/plain": [
       "{1: 17091, 0: 801}"
      ]
     },
     "execution_count": 84,
     "metadata": {},
     "output_type": "execute_result"
    }
   ],
   "source": [
    "train_class_weight = dict(train_y.value_counts())\n",
    "train_class_weight"
   ]
  },
  {
   "cell_type": "code",
   "execution_count": 95,
   "metadata": {},
   "outputs": [
    {
     "data": {
      "text/plain": [
       "0        0\n",
       "1        1\n",
       "2        1\n",
       "3        1\n",
       "4        1\n",
       "        ..\n",
       "23851    1\n",
       "23852    1\n",
       "23853    1\n",
       "23854    1\n",
       "23855    1\n",
       "Name: MULTIPLE_OFFENSE, Length: 23856, dtype: int64"
      ]
     },
     "execution_count": 95,
     "metadata": {},
     "output_type": "execute_result"
    }
   ],
   "source": [
    "train_df['MULTIPLE_OFFENSE']"
   ]
  },
  {
   "cell_type": "code",
   "execution_count": 185,
   "metadata": {},
   "outputs": [],
   "source": [
    "def OverSampleReplication(df,col=None,minority_class=None):\n",
    "    if col is None:\n",
    "        raise Warning('Column value not passed')\n",
    "    if col is None:\n",
    "        raise Warning('minority_class value not passed')\n",
    "    bool_train_labels = df[col]==minority_class\n",
    "    pos_features = df[bool_train_labels]\n",
    "    neg_features = df[~bool_train_labels]\n",
    "\n",
    "    pos_labels = df[bool_train_labels]\n",
    "    neg_labels = df[~bool_train_labels]\n",
    "    ids = np.arange(len(pos_features))\n",
    "    choices = np.random.choice(ids, len(neg_features))\n",
    "\n",
    "    res_pos_features = pos_features.iloc[choices]\n",
    "#     res_pos_labels = pos_labels.iloc[choices]\n",
    "    \n",
    "    resampled_features = pd.concat([res_pos_features, neg_features], axis=0)\n",
    "#     resampled_labels = pd.concat([res_pos_labels, neg_labels], axis=0)\n",
    "\n",
    "    order = np.arange(len(resampled_features))\n",
    "    np.random.shuffle(order)\n",
    "    resampled_features = resampled_features.iloc[order]\n",
    "#     resampled_labels = resampled_labels.iloc[order]\n",
    "    \n",
    "    return resampled_features.drop([col],axis=1),resampled_features[col]#,resampled_labels"
   ]
  },
  {
   "cell_type": "code",
   "execution_count": 189,
   "metadata": {},
   "outputs": [],
   "source": [
    "from sklearn.model_selection import train_test_split\n",
    "\n",
    "train_df_1 = train_df.drop(['DATE','INCIDENT_ID'],axis=1)\n",
    "train_df_1['X_12']= train_df_1['X_12'].fillna(-1.0)\n",
    "\n",
    "train_x, valid_x,train_y,valid_y = train_test_split(train_df_1.drop(['MULTIPLE_OFFENSE'],axis=1),train_df_1['MULTIPLE_OFFENSE'],stratify=train_df_1['MULTIPLE_OFFENSE'])"
   ]
  },
  {
   "cell_type": "code",
   "execution_count": 190,
   "metadata": {},
   "outputs": [
    {
     "data": {
      "text/plain": [
       "((17892, 15), (17892,), (5964, 15), (5964,))"
      ]
     },
     "execution_count": 190,
     "metadata": {},
     "output_type": "execute_result"
    }
   ],
   "source": [
    "train_x.shape,train_y.shape, valid_x.shape,valid_y.shape"
   ]
  },
  {
   "cell_type": "code",
   "execution_count": 191,
   "metadata": {
    "scrolled": false
   },
   "outputs": [
    {
     "data": {
      "text/plain": [
       "((34182, 15), (34182,), (11394, 15), (11394,))"
      ]
     },
     "execution_count": 191,
     "metadata": {},
     "output_type": "execute_result"
    }
   ],
   "source": [
    "df =pd.concat([train_x,train_y],axis=1)\n",
    "train_x,train_y = OverSampleReplication(df,col='MULTIPLE_OFFENSE',minority_class=0)\n",
    "\n",
    "df =pd.concat([valid_x,valid_y],axis=1)\n",
    "valid_x,valid_y = OverSampleReplication(df,col='MULTIPLE_OFFENSE',minority_class=0)\n",
    "\n",
    "train_x.shape,train_y.shape, valid_x.shape,valid_y.shape"
   ]
  },
  {
   "cell_type": "code",
   "execution_count": 192,
   "metadata": {},
   "outputs": [],
   "source": [
    "opt = Adam(learning_rate=1e-5)"
   ]
  },
  {
   "cell_type": "code",
   "execution_count": 214,
   "metadata": {},
   "outputs": [
    {
     "name": "stdout",
     "output_type": "stream",
     "text": [
      "Model: \"sequential_11\"\n",
      "_________________________________________________________________\n",
      "Layer (type)                 Output Shape              Param #   \n",
      "=================================================================\n",
      "dense_31 (Dense)             (None, 128)               2048      \n",
      "_________________________________________________________________\n",
      "dropout_16 (Dropout)         (None, 128)               0         \n",
      "_________________________________________________________________\n",
      "dense_32 (Dense)             (None, 64)                8256      \n",
      "_________________________________________________________________\n",
      "dropout_17 (Dropout)         (None, 64)                0         \n",
      "_________________________________________________________________\n",
      "dense_33 (Dense)             (None, 1)                 65        \n",
      "=================================================================\n",
      "Total params: 10,369\n",
      "Trainable params: 10,369\n",
      "Non-trainable params: 0\n",
      "_________________________________________________________________\n"
     ]
    }
   ],
   "source": [
    "model = Sequential([\n",
    "        Dense(128,input_shape=(15,),activation='relu'),\n",
    "        Dropout(0.25),\n",
    "        Dense(64,activation='relu'),\n",
    "        Dropout(0.25),\n",
    "#         Dense(16,activation='relu'),\n",
    "#         Dropout(0.2),\n",
    "#         Dense(4,activation='relu'),\n",
    "#         Dropout(0.2),\n",
    "        Dense(1,activation='sigmoid')])\n",
    "        \n",
    "\n",
    "    \n",
    "model.summary()"
   ]
  },
  {
   "cell_type": "code",
   "execution_count": 215,
   "metadata": {},
   "outputs": [],
   "source": [
    "model.compile(optimizer=opt,loss='binary_crossentropy',metrics=['accuracy',tf.keras.metrics.Recall(),tf.keras.metrics.AUC()])"
   ]
  },
  {
   "cell_type": "code",
   "execution_count": 216,
   "metadata": {
    "scrolled": false
   },
   "outputs": [
    {
     "name": "stdout",
     "output_type": "stream",
     "text": [
      "Epoch 1/50\n",
      "268/268 [==============================] - 2s 7ms/step - loss: 7.6779 - accuracy: 0.5314 - recall_11: 0.5862 - auc_11: 0.5380 - val_loss: 1.5064 - val_accuracy: 0.6735 - val_recall_11: 0.6825 - val_auc_11: 0.7121\n",
      "Epoch 2/50\n",
      "268/268 [==============================] - 2s 6ms/step - loss: 6.0913 - accuracy: 0.5538 - recall_11: 0.5786 - auc_11: 0.5630 - val_loss: 1.4065 - val_accuracy: 0.6900 - val_recall_11: 0.6797 - val_auc_11: 0.7233\n",
      "Epoch 3/50\n",
      "268/268 [==============================] - 2s 6ms/step - loss: 5.5146 - accuracy: 0.5601 - recall_11: 0.5899 - auc_11: 0.5723 - val_loss: 1.4310 - val_accuracy: 0.6933 - val_recall_11: 0.6307 - val_auc_11: 0.7295\n",
      "Epoch 4/50\n",
      "268/268 [==============================] - 2s 6ms/step - loss: 4.8588 - accuracy: 0.5693 - recall_11: 0.5914 - auc_11: 0.5834 - val_loss: 1.4201 - val_accuracy: 0.6965 - val_recall_11: 0.6451 - val_auc_11: 0.7289\n",
      "Epoch 5/50\n",
      "268/268 [==============================] - 2s 6ms/step - loss: 4.3952 - accuracy: 0.5786 - recall_11: 0.6027 - auc_11: 0.5951 - val_loss: 1.3982 - val_accuracy: 0.6961 - val_recall_11: 0.6503 - val_auc_11: 0.7314\n",
      "Epoch 6/50\n",
      "268/268 [==============================] - 2s 6ms/step - loss: 4.1141 - accuracy: 0.5800 - recall_11: 0.6050 - auc_11: 0.5971 - val_loss: 1.3826 - val_accuracy: 0.6916 - val_recall_11: 0.6282 - val_auc_11: 0.7307\n",
      "Epoch 7/50\n",
      "268/268 [==============================] - 2s 6ms/step - loss: 3.7114 - accuracy: 0.5792 - recall_11: 0.6014 - auc_11: 0.5978 - val_loss: 1.3195 - val_accuracy: 0.6944 - val_recall_11: 0.6430 - val_auc_11: 0.7323\n",
      "Epoch 8/50\n",
      "268/268 [==============================] - 2s 6ms/step - loss: 3.4851 - accuracy: 0.5825 - recall_11: 0.6040 - auc_11: 0.6026 - val_loss: 1.2402 - val_accuracy: 0.6953 - val_recall_11: 0.6460 - val_auc_11: 0.7319\n",
      "Epoch 9/50\n",
      "268/268 [==============================] - 2s 6ms/step - loss: 3.2693 - accuracy: 0.5822 - recall_11: 0.6079 - auc_11: 0.6011 - val_loss: 1.1964 - val_accuracy: 0.6989 - val_recall_11: 0.6295 - val_auc_11: 0.7312\n",
      "Epoch 10/50\n",
      "268/268 [==============================] - 2s 6ms/step - loss: 2.9985 - accuracy: 0.5857 - recall_11: 0.6088 - auc_11: 0.6091 - val_loss: 1.1458 - val_accuracy: 0.6969 - val_recall_11: 0.6256 - val_auc_11: 0.7305\n",
      "Epoch 11/50\n",
      "268/268 [==============================] - 2s 6ms/step - loss: 2.8485 - accuracy: 0.5817 - recall_11: 0.6027 - auc_11: 0.6070 - val_loss: 1.1112 - val_accuracy: 0.6978 - val_recall_11: 0.6187 - val_auc_11: 0.7288\n",
      "Epoch 12/50\n",
      "268/268 [==============================] - 2s 6ms/step - loss: 2.6256 - accuracy: 0.5875 - recall_11: 0.6070 - auc_11: 0.6119 - val_loss: 1.0832 - val_accuracy: 0.7005 - val_recall_11: 0.6105 - val_auc_11: 0.7260\n",
      "Epoch 13/50\n",
      "268/268 [==============================] - 2s 6ms/step - loss: 2.4380 - accuracy: 0.5901 - recall_11: 0.6082 - auc_11: 0.6162 - val_loss: 1.0327 - val_accuracy: 0.6969 - val_recall_11: 0.6101 - val_auc_11: 0.7255\n",
      "Epoch 14/50\n",
      "268/268 [==============================] - 2s 6ms/step - loss: 2.3152 - accuracy: 0.5867 - recall_11: 0.6090 - auc_11: 0.6129 - val_loss: 1.0022 - val_accuracy: 0.6827 - val_recall_11: 0.5684 - val_auc_11: 0.7255\n",
      "Epoch 15/50\n",
      "268/268 [==============================] - 1s 5ms/step - loss: 2.1784 - accuracy: 0.5869 - recall_11: 0.6039 - auc_11: 0.6124 - val_loss: 0.9657 - val_accuracy: 0.6883 - val_recall_11: 0.5650 - val_auc_11: 0.7225\n",
      "Epoch 16/50\n",
      "268/268 [==============================] - 1s 5ms/step - loss: 2.0625 - accuracy: 0.5887 - recall_11: 0.6067 - auc_11: 0.6136 - val_loss: 0.9285 - val_accuracy: 0.6772 - val_recall_11: 0.5348 - val_auc_11: 0.7179\n",
      "Epoch 17/50\n",
      "268/268 [==============================] - 1s 5ms/step - loss: 1.9174 - accuracy: 0.5856 - recall_11: 0.6049 - auc_11: 0.6152 - val_loss: 0.9116 - val_accuracy: 0.6638 - val_recall_11: 0.4999 - val_auc_11: 0.7150\n",
      "Epoch 18/50\n",
      "268/268 [==============================] - 1s 5ms/step - loss: 1.7987 - accuracy: 0.5867 - recall_11: 0.6054 - auc_11: 0.6186 - val_loss: 0.8907 - val_accuracy: 0.6548 - val_recall_11: 0.4818 - val_auc_11: 0.7103\n",
      "Epoch 19/50\n",
      "268/268 [==============================] - 2s 6ms/step - loss: 1.7190 - accuracy: 0.5848 - recall_11: 0.6035 - auc_11: 0.6168 - val_loss: 0.8637 - val_accuracy: 0.6515 - val_recall_11: 0.4678 - val_auc_11: 0.7065\n",
      "Epoch 20/50\n",
      "268/268 [==============================] - 2s 6ms/step - loss: 1.6060 - accuracy: 0.5884 - recall_11: 0.6072 - auc_11: 0.6212 - val_loss: 0.8383 - val_accuracy: 0.6493 - val_recall_11: 0.4595 - val_auc_11: 0.7019\n",
      "Epoch 21/50\n",
      "268/268 [==============================] - 2s 6ms/step - loss: 1.4930 - accuracy: 0.5929 - recall_11: 0.6094 - auc_11: 0.6258 - val_loss: 0.8051 - val_accuracy: 0.6523 - val_recall_11: 0.4683 - val_auc_11: 0.7006\n",
      "Epoch 22/50\n",
      "268/268 [==============================] - 2s 6ms/step - loss: 1.4104 - accuracy: 0.5964 - recall_11: 0.6129 - auc_11: 0.6292 - val_loss: 0.7821 - val_accuracy: 0.6588 - val_recall_11: 0.4692 - val_auc_11: 0.6971\n",
      "Epoch 23/50\n",
      "268/268 [==============================] - 2s 6ms/step - loss: 1.3535 - accuracy: 0.5891 - recall_11: 0.6026 - auc_11: 0.6245 - val_loss: 0.7407 - val_accuracy: 0.6564 - val_recall_11: 0.4838 - val_auc_11: 0.6993\n",
      "Epoch 24/50\n",
      "268/268 [==============================] - 2s 6ms/step - loss: 1.2657 - accuracy: 0.5924 - recall_11: 0.6076 - auc_11: 0.6286 - val_loss: 0.7012 - val_accuracy: 0.6526 - val_recall_11: 0.4925 - val_auc_11: 0.7036\n",
      "Epoch 25/50\n",
      "268/268 [==============================] - 1s 6ms/step - loss: 1.1945 - accuracy: 0.5926 - recall_11: 0.6101 - auc_11: 0.6298 - val_loss: 0.6676 - val_accuracy: 0.6542 - val_recall_11: 0.5022 - val_auc_11: 0.7110\n",
      "Epoch 26/50\n",
      "268/268 [==============================] - 1s 6ms/step - loss: 1.1393 - accuracy: 0.5967 - recall_11: 0.6155 - auc_11: 0.6315 - val_loss: 0.6447 - val_accuracy: 0.6619 - val_recall_11: 0.5168 - val_auc_11: 0.7174\n",
      "Epoch 27/50\n",
      "268/268 [==============================] - 1s 5ms/step - loss: 1.0681 - accuracy: 0.5995 - recall_11: 0.6187 - auc_11: 0.6372 - val_loss: 0.6286 - val_accuracy: 0.6714 - val_recall_11: 0.5341 - val_auc_11: 0.7227\n",
      "Epoch 28/50\n",
      "268/268 [==============================] - 2s 6ms/step - loss: 1.0151 - accuracy: 0.5991 - recall_11: 0.6189 - auc_11: 0.6373 - val_loss: 0.6201 - val_accuracy: 0.6804 - val_recall_11: 0.5380 - val_auc_11: 0.7266\n",
      "Epoch 29/50\n",
      "268/268 [==============================] - 2s 6ms/step - loss: 0.9855 - accuracy: 0.5970 - recall_11: 0.6121 - auc_11: 0.6352 - val_loss: 0.6082 - val_accuracy: 0.6801 - val_recall_11: 0.5719 - val_auc_11: 0.7344\n",
      "Epoch 30/50\n",
      "268/268 [==============================] - 2s 6ms/step - loss: 0.9288 - accuracy: 0.6009 - recall_11: 0.6242 - auc_11: 0.6414 - val_loss: 0.6029 - val_accuracy: 0.6863 - val_recall_11: 0.5828 - val_auc_11: 0.7410\n",
      "Epoch 31/50\n",
      "268/268 [==============================] - 2s 6ms/step - loss: 0.8805 - accuracy: 0.6068 - recall_11: 0.6300 - auc_11: 0.6479 - val_loss: 0.6011 - val_accuracy: 0.6897 - val_recall_11: 0.5886 - val_auc_11: 0.7463\n",
      "Epoch 32/50\n",
      "268/268 [==============================] - 2s 6ms/step - loss: 0.8484 - accuracy: 0.6070 - recall_11: 0.6302 - auc_11: 0.6506 - val_loss: 0.5974 - val_accuracy: 0.6951 - val_recall_11: 0.6209 - val_auc_11: 0.7549\n",
      "Epoch 33/50\n",
      "268/268 [==============================] - 2s 6ms/step - loss: 0.8280 - accuracy: 0.6048 - recall_11: 0.6295 - auc_11: 0.6493 - val_loss: 0.5955 - val_accuracy: 0.7051 - val_recall_11: 0.6484 - val_auc_11: 0.7620\n",
      "Epoch 34/50\n",
      "268/268 [==============================] - 2s 6ms/step - loss: 0.8039 - accuracy: 0.6051 - recall_11: 0.6341 - auc_11: 0.6507 - val_loss: 0.5969 - val_accuracy: 0.6998 - val_recall_11: 0.6509 - val_auc_11: 0.7623\n",
      "Epoch 35/50\n",
      "268/268 [==============================] - 2s 6ms/step - loss: 0.7650 - accuracy: 0.6106 - recall_11: 0.6425 - auc_11: 0.6604 - val_loss: 0.5986 - val_accuracy: 0.6990 - val_recall_11: 0.6486 - val_auc_11: 0.7598\n",
      "Epoch 36/50\n",
      "268/268 [==============================] - 2s 6ms/step - loss: 0.7551 - accuracy: 0.6145 - recall_11: 0.6456 - auc_11: 0.6620 - val_loss: 0.5985 - val_accuracy: 0.7073 - val_recall_11: 0.6705 - val_auc_11: 0.7615\n",
      "Epoch 37/50\n",
      "268/268 [==============================] - 1s 5ms/step - loss: 0.7393 - accuracy: 0.6119 - recall_11: 0.6451 - auc_11: 0.6634 - val_loss: 0.5976 - val_accuracy: 0.7053 - val_recall_11: 0.6904 - val_auc_11: 0.7644\n",
      "Epoch 38/50\n",
      "268/268 [==============================] - 1s 5ms/step - loss: 0.7283 - accuracy: 0.6104 - recall_11: 0.6457 - auc_11: 0.6612 - val_loss: 0.5975 - val_accuracy: 0.7070 - val_recall_11: 0.6995 - val_auc_11: 0.7661\n",
      "Epoch 39/50\n",
      "268/268 [==============================] - 1s 5ms/step - loss: 0.7124 - accuracy: 0.6205 - recall_11: 0.6517 - auc_11: 0.6695 - val_loss: 0.5968 - val_accuracy: 0.7096 - val_recall_11: 0.7279 - val_auc_11: 0.7700\n",
      "Epoch 40/50\n",
      "268/268 [==============================] - 1s 5ms/step - loss: 0.7001 - accuracy: 0.6201 - recall_11: 0.6616 - auc_11: 0.6729 - val_loss: 0.5960 - val_accuracy: 0.7140 - val_recall_11: 0.7474 - val_auc_11: 0.7715\n",
      "Epoch 41/50\n",
      "268/268 [==============================] - 1s 5ms/step - loss: 0.6858 - accuracy: 0.6246 - recall_11: 0.6687 - auc_11: 0.6780 - val_loss: 0.5951 - val_accuracy: 0.7176 - val_recall_11: 0.7516 - val_auc_11: 0.7737\n",
      "Epoch 42/50\n",
      "268/268 [==============================] - 1s 5ms/step - loss: 0.6818 - accuracy: 0.6266 - recall_11: 0.6739 - auc_11: 0.6802 - val_loss: 0.5947 - val_accuracy: 0.7178 - val_recall_11: 0.7522 - val_auc_11: 0.7754\n",
      "Epoch 43/50\n",
      "268/268 [==============================] - 1s 5ms/step - loss: 0.6702 - accuracy: 0.6324 - recall_11: 0.6691 - auc_11: 0.6885 - val_loss: 0.5940 - val_accuracy: 0.7162 - val_recall_11: 0.7560 - val_auc_11: 0.7757\n",
      "Epoch 44/50\n",
      "268/268 [==============================] - 2s 6ms/step - loss: 0.6625 - accuracy: 0.6316 - recall_11: 0.6742 - auc_11: 0.6897 - val_loss: 0.5932 - val_accuracy: 0.7150 - val_recall_11: 0.7695 - val_auc_11: 0.7778\n",
      "Epoch 45/50\n",
      "268/268 [==============================] - 1s 5ms/step - loss: 0.6585 - accuracy: 0.6350 - recall_11: 0.6863 - auc_11: 0.6933 - val_loss: 0.5921 - val_accuracy: 0.7163 - val_recall_11: 0.7720 - val_auc_11: 0.7786\n",
      "Epoch 46/50\n",
      "268/268 [==============================] - 1s 5ms/step - loss: 0.6474 - accuracy: 0.6402 - recall_11: 0.6877 - auc_11: 0.7010 - val_loss: 0.5906 - val_accuracy: 0.7179 - val_recall_11: 0.7753 - val_auc_11: 0.7799\n",
      "Epoch 47/50\n",
      "268/268 [==============================] - 1s 5ms/step - loss: 0.6481 - accuracy: 0.6399 - recall_11: 0.6835 - auc_11: 0.6995 - val_loss: 0.5894 - val_accuracy: 0.7183 - val_recall_11: 0.7732 - val_auc_11: 0.7807\n",
      "Epoch 48/50\n",
      "268/268 [==============================] - 1s 5ms/step - loss: 0.6413 - accuracy: 0.6455 - recall_11: 0.6878 - auc_11: 0.7042 - val_loss: 0.5875 - val_accuracy: 0.7186 - val_recall_11: 0.7780 - val_auc_11: 0.7813\n",
      "Epoch 49/50\n",
      "268/268 [==============================] - 1s 5ms/step - loss: 0.6357 - accuracy: 0.6446 - recall_11: 0.6864 - auc_11: 0.7077 - val_loss: 0.5864 - val_accuracy: 0.7184 - val_recall_11: 0.7774 - val_auc_11: 0.7820\n",
      "Epoch 50/50\n",
      "268/268 [==============================] - 1s 5ms/step - loss: 0.6328 - accuracy: 0.6445 - recall_11: 0.6883 - auc_11: 0.7099 - val_loss: 0.5854 - val_accuracy: 0.7203 - val_recall_11: 0.7773 - val_auc_11: 0.7821\n"
     ]
    },
    {
     "data": {
      "text/plain": [
       "<tensorflow.python.keras.callbacks.History at 0x141b9232a48>"
      ]
     },
     "execution_count": 216,
     "metadata": {},
     "output_type": "execute_result"
    }
   ],
   "source": [
    "model.fit(train_x,train_y,epochs=50,batch_size=128,validation_data=(valid_x,valid_y),verbose=1) #,class_weight=train_class_weight)"
   ]
  },
  {
   "cell_type": "code",
   "execution_count": 134,
   "metadata": {},
   "outputs": [],
   "source": [
    "model.save('50_epochs.h5')"
   ]
  },
  {
   "cell_type": "code",
   "execution_count": 217,
   "metadata": {},
   "outputs": [
    {
     "name": "stdout",
     "output_type": "stream",
     "text": [
      "Epoch 1/50\n",
      "268/268 [==============================] - 1s 5ms/step - loss: 0.6288 - accuracy: 0.6515 - recall_11: 0.6982 - auc_11: 0.7142 - val_loss: 0.5842 - val_accuracy: 0.7151 - val_recall_11: 0.7794 - val_auc_11: 0.7828\n",
      "Epoch 2/50\n",
      "268/268 [==============================] - 1s 5ms/step - loss: 0.6209 - accuracy: 0.6555 - recall_11: 0.6979 - auc_11: 0.7200 - val_loss: 0.5824 - val_accuracy: 0.7145 - val_recall_11: 0.7781 - val_auc_11: 0.7831\n",
      "Epoch 3/50\n",
      "268/268 [==============================] - 2s 8ms/step - loss: 0.6269 - accuracy: 0.6496 - recall_11: 0.6959 - auc_11: 0.7151 - val_loss: 0.5812 - val_accuracy: 0.7133 - val_recall_11: 0.7757 - val_auc_11: 0.7839\n",
      "Epoch 4/50\n",
      "268/268 [==============================] - 1s 5ms/step - loss: 0.6186 - accuracy: 0.6573 - recall_11: 0.6995 - auc_11: 0.7224 - val_loss: 0.5799 - val_accuracy: 0.7126 - val_recall_11: 0.7743 - val_auc_11: 0.7844\n",
      "Epoch 5/50\n",
      "268/268 [==============================] - 1s 5ms/step - loss: 0.6186 - accuracy: 0.6589 - recall_11: 0.7001 - auc_11: 0.7243 - val_loss: 0.5789 - val_accuracy: 0.7155 - val_recall_11: 0.7715 - val_auc_11: 0.7840\n",
      "Epoch 6/50\n",
      "268/268 [==============================] - 1s 6ms/step - loss: 0.6131 - accuracy: 0.6601 - recall_11: 0.7028 - auc_11: 0.7271 - val_loss: 0.5771 - val_accuracy: 0.7160 - val_recall_11: 0.7751 - val_auc_11: 0.7851\n",
      "Epoch 7/50\n",
      "268/268 [==============================] - 1s 6ms/step - loss: 0.6137 - accuracy: 0.6630 - recall_11: 0.7024 - auc_11: 0.7290 - val_loss: 0.5761 - val_accuracy: 0.7120 - val_recall_11: 0.7774 - val_auc_11: 0.7860\n",
      "Epoch 8/50\n",
      "268/268 [==============================] - 2s 6ms/step - loss: 0.6087 - accuracy: 0.6672 - recall_11: 0.7110 - auc_11: 0.7331 - val_loss: 0.5744 - val_accuracy: 0.7121 - val_recall_11: 0.7778 - val_auc_11: 0.7865\n",
      "Epoch 9/50\n",
      "268/268 [==============================] - 1s 5ms/step - loss: 0.6070 - accuracy: 0.6645 - recall_11: 0.7046 - auc_11: 0.7333 - val_loss: 0.5731 - val_accuracy: 0.7129 - val_recall_11: 0.7794 - val_auc_11: 0.7868\n",
      "Epoch 10/50\n",
      "268/268 [==============================] - 1s 5ms/step - loss: 0.6046 - accuracy: 0.6677 - recall_11: 0.7100 - auc_11: 0.7359 - val_loss: 0.5718 - val_accuracy: 0.7130 - val_recall_11: 0.7737 - val_auc_11: 0.7866\n",
      "Epoch 11/50\n",
      "268/268 [==============================] - 1s 6ms/step - loss: 0.6013 - accuracy: 0.6695 - recall_11: 0.7093 - auc_11: 0.7392 - val_loss: 0.5707 - val_accuracy: 0.7136 - val_recall_11: 0.7750 - val_auc_11: 0.7869\n",
      "Epoch 12/50\n",
      "268/268 [==============================] - 2s 6ms/step - loss: 0.5984 - accuracy: 0.6696 - recall_11: 0.7090 - auc_11: 0.7415 - val_loss: 0.5694 - val_accuracy: 0.7144 - val_recall_11: 0.7725 - val_auc_11: 0.7868\n",
      "Epoch 13/50\n",
      "268/268 [==============================] - 1s 6ms/step - loss: 0.5995 - accuracy: 0.6738 - recall_11: 0.7079 - auc_11: 0.7407 - val_loss: 0.5687 - val_accuracy: 0.7148 - val_recall_11: 0.7732 - val_auc_11: 0.7872\n",
      "Epoch 14/50\n",
      "268/268 [==============================] - 1s 5ms/step - loss: 0.5965 - accuracy: 0.6755 - recall_11: 0.7117 - auc_11: 0.7442 - val_loss: 0.5674 - val_accuracy: 0.7141 - val_recall_11: 0.7760 - val_auc_11: 0.7875\n",
      "Epoch 15/50\n",
      "268/268 [==============================] - 1s 5ms/step - loss: 0.5965 - accuracy: 0.6759 - recall_11: 0.7145 - auc_11: 0.7446 - val_loss: 0.5665 - val_accuracy: 0.7125 - val_recall_11: 0.7795 - val_auc_11: 0.7881\n",
      "Epoch 16/50\n",
      "268/268 [==============================] - 1s 5ms/step - loss: 0.5910 - accuracy: 0.6791 - recall_11: 0.7172 - auc_11: 0.7504 - val_loss: 0.5650 - val_accuracy: 0.7128 - val_recall_11: 0.7739 - val_auc_11: 0.7883\n",
      "Epoch 17/50\n",
      "268/268 [==============================] - 1s 5ms/step - loss: 0.5960 - accuracy: 0.6736 - recall_11: 0.7111 - auc_11: 0.7448 - val_loss: 0.5644 - val_accuracy: 0.7138 - val_recall_11: 0.7718 - val_auc_11: 0.7886\n",
      "Epoch 18/50\n",
      "268/268 [==============================] - 2s 6ms/step - loss: 0.5892 - accuracy: 0.6805 - recall_11: 0.7144 - auc_11: 0.7504 - val_loss: 0.5632 - val_accuracy: 0.7135 - val_recall_11: 0.7713 - val_auc_11: 0.7881\n",
      "Epoch 19/50\n",
      "268/268 [==============================] - 2s 6ms/step - loss: 0.5869 - accuracy: 0.6833 - recall_11: 0.7170 - auc_11: 0.7536 - val_loss: 0.5620 - val_accuracy: 0.7132 - val_recall_11: 0.7706 - val_auc_11: 0.7891\n",
      "Epoch 20/50\n",
      "268/268 [==============================] - 2s 6ms/step - loss: 0.5868 - accuracy: 0.6849 - recall_11: 0.7175 - auc_11: 0.7548 - val_loss: 0.5609 - val_accuracy: 0.7165 - val_recall_11: 0.7669 - val_auc_11: 0.7891\n",
      "Epoch 21/50\n",
      "268/268 [==============================] - 2s 6ms/step - loss: 0.5850 - accuracy: 0.6854 - recall_11: 0.7173 - auc_11: 0.7572 - val_loss: 0.5600 - val_accuracy: 0.7159 - val_recall_11: 0.7630 - val_auc_11: 0.7891\n",
      "Epoch 22/50\n",
      "268/268 [==============================] - 2s 6ms/step - loss: 0.5849 - accuracy: 0.6846 - recall_11: 0.7140 - auc_11: 0.7556 - val_loss: 0.5593 - val_accuracy: 0.7148 - val_recall_11: 0.7608 - val_auc_11: 0.7893\n",
      "Epoch 23/50\n",
      "268/268 [==============================] - 2s 6ms/step - loss: 0.5834 - accuracy: 0.6847 - recall_11: 0.7155 - auc_11: 0.7575 - val_loss: 0.5587 - val_accuracy: 0.7166 - val_recall_11: 0.7644 - val_auc_11: 0.7897\n",
      "Epoch 24/50\n",
      "268/268 [==============================] - 2s 6ms/step - loss: 0.5822 - accuracy: 0.6897 - recall_11: 0.7190 - auc_11: 0.7585 - val_loss: 0.5576 - val_accuracy: 0.7163 - val_recall_11: 0.7637 - val_auc_11: 0.7901\n",
      "Epoch 25/50\n",
      "268/268 [==============================] - 2s 6ms/step - loss: 0.5789 - accuracy: 0.6895 - recall_11: 0.7173 - auc_11: 0.7614 - val_loss: 0.5572 - val_accuracy: 0.7186 - val_recall_11: 0.7685 - val_auc_11: 0.7906\n",
      "Epoch 26/50\n",
      "268/268 [==============================] - 2s 7ms/step - loss: 0.5801 - accuracy: 0.6881 - recall_11: 0.7169 - auc_11: 0.7607 - val_loss: 0.5567 - val_accuracy: 0.7180 - val_recall_11: 0.7672 - val_auc_11: 0.7909\n",
      "Epoch 27/50\n",
      "268/268 [==============================] - 2s 6ms/step - loss: 0.5764 - accuracy: 0.6932 - recall_11: 0.7233 - auc_11: 0.7648 - val_loss: 0.5559 - val_accuracy: 0.7173 - val_recall_11: 0.7658 - val_auc_11: 0.7916\n",
      "Epoch 28/50\n",
      "268/268 [==============================] - 2s 7ms/step - loss: 0.5768 - accuracy: 0.6903 - recall_11: 0.7162 - auc_11: 0.7633 - val_loss: 0.5555 - val_accuracy: 0.7166 - val_recall_11: 0.7644 - val_auc_11: 0.7916\n",
      "Epoch 29/50\n",
      "268/268 [==============================] - 2s 7ms/step - loss: 0.5740 - accuracy: 0.6927 - recall_11: 0.7215 - auc_11: 0.7669 - val_loss: 0.5546 - val_accuracy: 0.7167 - val_recall_11: 0.7646 - val_auc_11: 0.7917\n",
      "Epoch 30/50\n",
      "268/268 [==============================] - 2s 6ms/step - loss: 0.5738 - accuracy: 0.6940 - recall_11: 0.7192 - auc_11: 0.7672 - val_loss: 0.5540 - val_accuracy: 0.7167 - val_recall_11: 0.7646 - val_auc_11: 0.7917\n",
      "Epoch 31/50\n",
      "268/268 [==============================] - 2s 6ms/step - loss: 0.5734 - accuracy: 0.6964 - recall_11: 0.7229 - auc_11: 0.7675 - val_loss: 0.5538 - val_accuracy: 0.7178 - val_recall_11: 0.7669 - val_auc_11: 0.7923\n",
      "Epoch 32/50\n",
      "268/268 [==============================] - 1s 5ms/step - loss: 0.5717 - accuracy: 0.6949 - recall_11: 0.7203 - auc_11: 0.7682 - val_loss: 0.5526 - val_accuracy: 0.7169 - val_recall_11: 0.7606 - val_auc_11: 0.7920\n",
      "Epoch 33/50\n",
      "268/268 [==============================] - 2s 6ms/step - loss: 0.5715 - accuracy: 0.6963 - recall_11: 0.7141 - auc_11: 0.7682 - val_loss: 0.5527 - val_accuracy: 0.7199 - val_recall_11: 0.7581 - val_auc_11: 0.7920\n",
      "Epoch 34/50\n",
      "268/268 [==============================] - 1s 5ms/step - loss: 0.5713 - accuracy: 0.6955 - recall_11: 0.7194 - auc_11: 0.7689 - val_loss: 0.5519 - val_accuracy: 0.7198 - val_recall_11: 0.7579 - val_auc_11: 0.7920\n",
      "Epoch 35/50\n",
      "268/268 [==============================] - 2s 6ms/step - loss: 0.5724 - accuracy: 0.6984 - recall_11: 0.7223 - auc_11: 0.7703 - val_loss: 0.5520 - val_accuracy: 0.7203 - val_recall_11: 0.7590 - val_auc_11: 0.7923\n",
      "Epoch 36/50\n",
      "268/268 [==============================] - 2s 6ms/step - loss: 0.5683 - accuracy: 0.6991 - recall_11: 0.7202 - auc_11: 0.7719 - val_loss: 0.5514 - val_accuracy: 0.7161 - val_recall_11: 0.7590 - val_auc_11: 0.7928\n",
      "Epoch 37/50\n",
      "268/268 [==============================] - 2s 7ms/step - loss: 0.5691 - accuracy: 0.7002 - recall_11: 0.7203 - auc_11: 0.7712 - val_loss: 0.5506 - val_accuracy: 0.7172 - val_recall_11: 0.7583 - val_auc_11: 0.7930\n",
      "Epoch 38/50\n",
      "268/268 [==============================] - 2s 6ms/step - loss: 0.5670 - accuracy: 0.6995 - recall_11: 0.7217 - auc_11: 0.7727 - val_loss: 0.5502 - val_accuracy: 0.7218 - val_recall_11: 0.7590 - val_auc_11: 0.7931\n",
      "Epoch 39/50\n",
      "268/268 [==============================] - 2s 6ms/step - loss: 0.5674 - accuracy: 0.7008 - recall_11: 0.7269 - auc_11: 0.7734 - val_loss: 0.5498 - val_accuracy: 0.7217 - val_recall_11: 0.7588 - val_auc_11: 0.7934\n",
      "Epoch 40/50\n",
      "268/268 [==============================] - 2s 6ms/step - loss: 0.5667 - accuracy: 0.7012 - recall_11: 0.7220 - auc_11: 0.7736 - val_loss: 0.5496 - val_accuracy: 0.7206 - val_recall_11: 0.7565 - val_auc_11: 0.7935\n",
      "Epoch 41/50\n",
      "268/268 [==============================] - 2s 6ms/step - loss: 0.5659 - accuracy: 0.7006 - recall_11: 0.7208 - auc_11: 0.7742 - val_loss: 0.5496 - val_accuracy: 0.7201 - val_recall_11: 0.7557 - val_auc_11: 0.7938\n",
      "Epoch 42/50\n",
      "268/268 [==============================] - 2s 6ms/step - loss: 0.5630 - accuracy: 0.7032 - recall_11: 0.7220 - auc_11: 0.7772 - val_loss: 0.5489 - val_accuracy: 0.7223 - val_recall_11: 0.7544 - val_auc_11: 0.7943\n",
      "Epoch 43/50\n",
      "268/268 [==============================] - 2s 6ms/step - loss: 0.5597 - accuracy: 0.7043 - recall_11: 0.7254 - auc_11: 0.7790 - val_loss: 0.5484 - val_accuracy: 0.7217 - val_recall_11: 0.7532 - val_auc_11: 0.7944\n",
      "Epoch 44/50\n",
      "268/268 [==============================] - 2s 6ms/step - loss: 0.5617 - accuracy: 0.7015 - recall_11: 0.7204 - auc_11: 0.7769 - val_loss: 0.5479 - val_accuracy: 0.7224 - val_recall_11: 0.7546 - val_auc_11: 0.7949\n",
      "Epoch 45/50\n",
      "268/268 [==============================] - 2s 6ms/step - loss: 0.5609 - accuracy: 0.7040 - recall_11: 0.7236 - auc_11: 0.7787 - val_loss: 0.5475 - val_accuracy: 0.7216 - val_recall_11: 0.7530 - val_auc_11: 0.7952\n",
      "Epoch 46/50\n",
      "268/268 [==============================] - 1s 5ms/step - loss: 0.5596 - accuracy: 0.7035 - recall_11: 0.7245 - auc_11: 0.7794 - val_loss: 0.5471 - val_accuracy: 0.7225 - val_recall_11: 0.7548 - val_auc_11: 0.7955\n",
      "Epoch 47/50\n",
      "268/268 [==============================] - 1s 5ms/step - loss: 0.5603 - accuracy: 0.7074 - recall_11: 0.7220 - auc_11: 0.7795 - val_loss: 0.5467 - val_accuracy: 0.7219 - val_recall_11: 0.7536 - val_auc_11: 0.7955\n",
      "Epoch 48/50\n",
      "268/268 [==============================] - 1s 5ms/step - loss: 0.5604 - accuracy: 0.7066 - recall_11: 0.7247 - auc_11: 0.7796 - val_loss: 0.5465 - val_accuracy: 0.7218 - val_recall_11: 0.7534 - val_auc_11: 0.7960\n",
      "Epoch 49/50\n",
      "268/268 [==============================] - 1s 5ms/step - loss: 0.5602 - accuracy: 0.7063 - recall_11: 0.7207 - auc_11: 0.7792 - val_loss: 0.5464 - val_accuracy: 0.7217 - val_recall_11: 0.7532 - val_auc_11: 0.7962\n",
      "Epoch 50/50\n",
      "268/268 [==============================] - 1s 5ms/step - loss: 0.5574 - accuracy: 0.7069 - recall_11: 0.7242 - auc_11: 0.7822 - val_loss: 0.5459 - val_accuracy: 0.7213 - val_recall_11: 0.7509 - val_auc_11: 0.7963\n"
     ]
    },
    {
     "data": {
      "text/plain": [
       "<tensorflow.python.keras.callbacks.History at 0x141bd964b08>"
      ]
     },
     "execution_count": 217,
     "metadata": {},
     "output_type": "execute_result"
    }
   ],
   "source": [
    "model.fit(train_x,train_y,epochs=50,batch_size=128,validation_data=(valid_x,valid_y),verbose=1) #,class_weight=train_class_weight)"
   ]
  },
  {
   "cell_type": "code",
   "execution_count": 218,
   "metadata": {},
   "outputs": [
    {
     "name": "stdout",
     "output_type": "stream",
     "text": [
      "Epoch 1/50\n",
      "268/268 [==============================] - 1s 5ms/step - loss: 0.5582 - accuracy: 0.7073 - recall_11: 0.7203 - auc_11: 0.7813 - val_loss: 0.5458 - val_accuracy: 0.7217 - val_recall_11: 0.7516 - val_auc_11: 0.7966\n",
      "Epoch 2/50\n",
      "268/268 [==============================] - 1s 5ms/step - loss: 0.5589 - accuracy: 0.7064 - recall_11: 0.7219 - auc_11: 0.7804 - val_loss: 0.5458 - val_accuracy: 0.7206 - val_recall_11: 0.7495 - val_auc_11: 0.7969\n",
      "Epoch 3/50\n",
      "268/268 [==============================] - 1s 5ms/step - loss: 0.5562 - accuracy: 0.7092 - recall_11: 0.7252 - auc_11: 0.7831 - val_loss: 0.5451 - val_accuracy: 0.7212 - val_recall_11: 0.7506 - val_auc_11: 0.7971\n",
      "Epoch 4/50\n",
      "268/268 [==============================] - 1s 6ms/step - loss: 0.5539 - accuracy: 0.7112 - recall_11: 0.7193 - auc_11: 0.7847 - val_loss: 0.5447 - val_accuracy: 0.7228 - val_recall_11: 0.7506 - val_auc_11: 0.7975\n",
      "Epoch 5/50\n",
      "268/268 [==============================] - 1s 5ms/step - loss: 0.5546 - accuracy: 0.7108 - recall_11: 0.7279 - auc_11: 0.7847 - val_loss: 0.5446 - val_accuracy: 0.7230 - val_recall_11: 0.7509 - val_auc_11: 0.7979\n",
      "Epoch 6/50\n",
      "268/268 [==============================] - 1s 5ms/step - loss: 0.5541 - accuracy: 0.7107 - recall_11: 0.7256 - auc_11: 0.7856 - val_loss: 0.5440 - val_accuracy: 0.7219 - val_recall_11: 0.7486 - val_auc_11: 0.7982\n",
      "Epoch 7/50\n",
      "268/268 [==============================] - 1s 5ms/step - loss: 0.5511 - accuracy: 0.7105 - recall_11: 0.7260 - auc_11: 0.7864 - val_loss: 0.5436 - val_accuracy: 0.7249 - val_recall_11: 0.7453 - val_auc_11: 0.7987\n",
      "Epoch 8/50\n",
      "268/268 [==============================] - 1s 5ms/step - loss: 0.5539 - accuracy: 0.7137 - recall_11: 0.7233 - auc_11: 0.7861 - val_loss: 0.5436 - val_accuracy: 0.7237 - val_recall_11: 0.7523 - val_auc_11: 0.7987\n",
      "Epoch 9/50\n",
      "268/268 [==============================] - 1s 5ms/step - loss: 0.5536 - accuracy: 0.7114 - recall_11: 0.7265 - auc_11: 0.7856 - val_loss: 0.5439 - val_accuracy: 0.7235 - val_recall_11: 0.7471 - val_auc_11: 0.7990\n",
      "Epoch 10/50\n",
      "268/268 [==============================] - 1s 5ms/step - loss: 0.5500 - accuracy: 0.7149 - recall_11: 0.7244 - auc_11: 0.7887 - val_loss: 0.5429 - val_accuracy: 0.7251 - val_recall_11: 0.7458 - val_auc_11: 0.7999\n",
      "Epoch 11/50\n",
      "268/268 [==============================] - 1s 5ms/step - loss: 0.5501 - accuracy: 0.7141 - recall_11: 0.7255 - auc_11: 0.7889 - val_loss: 0.5423 - val_accuracy: 0.7253 - val_recall_11: 0.7425 - val_auc_11: 0.8002\n",
      "Epoch 12/50\n",
      "268/268 [==============================] - 1s 5ms/step - loss: 0.5497 - accuracy: 0.7151 - recall_11: 0.7214 - auc_11: 0.7884 - val_loss: 0.5419 - val_accuracy: 0.7248 - val_recall_11: 0.7451 - val_auc_11: 0.8005\n",
      "Epoch 13/50\n",
      "268/268 [==============================] - 1s 5ms/step - loss: 0.5498 - accuracy: 0.7133 - recall_11: 0.7199 - auc_11: 0.7886 - val_loss: 0.5414 - val_accuracy: 0.7255 - val_recall_11: 0.7428 - val_auc_11: 0.8009\n",
      "Epoch 14/50\n",
      "268/268 [==============================] - 1s 5ms/step - loss: 0.5475 - accuracy: 0.7139 - recall_11: 0.7218 - auc_11: 0.7903 - val_loss: 0.5412 - val_accuracy: 0.7257 - val_recall_11: 0.7434 - val_auc_11: 0.8014\n",
      "Epoch 15/50\n",
      "268/268 [==============================] - 1s 5ms/step - loss: 0.5504 - accuracy: 0.7149 - recall_11: 0.7242 - auc_11: 0.7883 - val_loss: 0.5410 - val_accuracy: 0.7244 - val_recall_11: 0.7444 - val_auc_11: 0.8017\n",
      "Epoch 16/50\n",
      "268/268 [==============================] - 1s 5ms/step - loss: 0.5485 - accuracy: 0.7166 - recall_11: 0.7248 - auc_11: 0.7900 - val_loss: 0.5402 - val_accuracy: 0.7240 - val_recall_11: 0.7435 - val_auc_11: 0.8022\n",
      "Epoch 17/50\n",
      "268/268 [==============================] - 1s 5ms/step - loss: 0.5465 - accuracy: 0.7175 - recall_11: 0.7254 - auc_11: 0.7913 - val_loss: 0.5395 - val_accuracy: 0.7251 - val_recall_11: 0.7421 - val_auc_11: 0.8024\n",
      "Epoch 18/50\n",
      "268/268 [==============================] - 1s 5ms/step - loss: 0.5459 - accuracy: 0.7185 - recall_11: 0.7214 - auc_11: 0.7927 - val_loss: 0.5394 - val_accuracy: 0.7254 - val_recall_11: 0.7427 - val_auc_11: 0.8035\n",
      "Epoch 19/50\n",
      "268/268 [==============================] - 1s 5ms/step - loss: 0.5437 - accuracy: 0.7170 - recall_11: 0.7232 - auc_11: 0.7939 - val_loss: 0.5393 - val_accuracy: 0.7255 - val_recall_11: 0.7428 - val_auc_11: 0.8034\n",
      "Epoch 20/50\n",
      "268/268 [==============================] - 1s 5ms/step - loss: 0.5439 - accuracy: 0.7189 - recall_11: 0.7259 - auc_11: 0.7942 - val_loss: 0.5384 - val_accuracy: 0.7233 - val_recall_11: 0.7385 - val_auc_11: 0.8040\n",
      "Epoch 21/50\n",
      "268/268 [==============================] - 1s 5ms/step - loss: 0.5448 - accuracy: 0.7170 - recall_11: 0.7218 - auc_11: 0.7931 - val_loss: 0.5382 - val_accuracy: 0.7223 - val_recall_11: 0.7365 - val_auc_11: 0.8042\n",
      "Epoch 22/50\n",
      "268/268 [==============================] - 1s 5ms/step - loss: 0.5411 - accuracy: 0.7194 - recall_11: 0.7233 - auc_11: 0.7961 - val_loss: 0.5381 - val_accuracy: 0.7221 - val_recall_11: 0.7362 - val_auc_11: 0.8046\n",
      "Epoch 23/50\n",
      "268/268 [==============================] - 1s 5ms/step - loss: 0.5469 - accuracy: 0.7164 - recall_11: 0.7177 - auc_11: 0.7916 - val_loss: 0.5385 - val_accuracy: 0.7231 - val_recall_11: 0.7381 - val_auc_11: 0.8049\n",
      "Epoch 24/50\n",
      "268/268 [==============================] - 1s 5ms/step - loss: 0.5418 - accuracy: 0.7208 - recall_11: 0.7258 - auc_11: 0.7951 - val_loss: 0.5382 - val_accuracy: 0.7224 - val_recall_11: 0.7367 - val_auc_11: 0.8051\n",
      "Epoch 25/50\n",
      "268/268 [==============================] - 1s 5ms/step - loss: 0.5419 - accuracy: 0.7207 - recall_11: 0.7201 - auc_11: 0.7947 - val_loss: 0.5375 - val_accuracy: 0.7223 - val_recall_11: 0.7365 - val_auc_11: 0.8055\n",
      "Epoch 26/50\n",
      "268/268 [==============================] - 1s 5ms/step - loss: 0.5413 - accuracy: 0.7207 - recall_11: 0.7237 - auc_11: 0.7961 - val_loss: 0.5372 - val_accuracy: 0.7224 - val_recall_11: 0.7367 - val_auc_11: 0.8060\n",
      "Epoch 27/50\n",
      "268/268 [==============================] - 1s 5ms/step - loss: 0.5410 - accuracy: 0.7204 - recall_11: 0.7226 - auc_11: 0.7964 - val_loss: 0.5371 - val_accuracy: 0.7225 - val_recall_11: 0.7369 - val_auc_11: 0.8059\n",
      "Epoch 28/50\n",
      "268/268 [==============================] - 1s 5ms/step - loss: 0.5401 - accuracy: 0.7206 - recall_11: 0.7234 - auc_11: 0.7968 - val_loss: 0.5366 - val_accuracy: 0.7236 - val_recall_11: 0.7392 - val_auc_11: 0.8065\n",
      "Epoch 29/50\n",
      "268/268 [==============================] - 1s 4ms/step - loss: 0.5400 - accuracy: 0.7225 - recall_11: 0.7272 - auc_11: 0.7979 - val_loss: 0.5360 - val_accuracy: 0.7227 - val_recall_11: 0.7372 - val_auc_11: 0.8068\n",
      "Epoch 30/50\n",
      "268/268 [==============================] - 1s 5ms/step - loss: 0.5379 - accuracy: 0.7236 - recall_11: 0.7242 - auc_11: 0.7992 - val_loss: 0.5354 - val_accuracy: 0.7233 - val_recall_11: 0.7351 - val_auc_11: 0.8074\n",
      "Epoch 31/50\n",
      "268/268 [==============================] - 1s 6ms/step - loss: 0.5369 - accuracy: 0.7244 - recall_11: 0.7258 - auc_11: 0.7999 - val_loss: 0.5356 - val_accuracy: 0.7236 - val_recall_11: 0.7392 - val_auc_11: 0.8079\n",
      "Epoch 32/50\n",
      "268/268 [==============================] - 2s 6ms/step - loss: 0.5361 - accuracy: 0.7254 - recall_11: 0.7263 - auc_11: 0.8010 - val_loss: 0.5348 - val_accuracy: 0.7240 - val_recall_11: 0.7399 - val_auc_11: 0.8083\n",
      "Epoch 33/50\n",
      "268/268 [==============================] - 1s 5ms/step - loss: 0.5375 - accuracy: 0.7230 - recall_11: 0.7278 - auc_11: 0.7992 - val_loss: 0.5342 - val_accuracy: 0.7234 - val_recall_11: 0.7353 - val_auc_11: 0.8086\n",
      "Epoch 34/50\n",
      "268/268 [==============================] - 1s 5ms/step - loss: 0.5363 - accuracy: 0.7234 - recall_11: 0.7223 - auc_11: 0.8000 - val_loss: 0.5340 - val_accuracy: 0.7222 - val_recall_11: 0.7330 - val_auc_11: 0.8090\n",
      "Epoch 35/50\n",
      "268/268 [==============================] - 1s 6ms/step - loss: 0.5372 - accuracy: 0.7241 - recall_11: 0.7207 - auc_11: 0.8001 - val_loss: 0.5339 - val_accuracy: 0.7238 - val_recall_11: 0.7362 - val_auc_11: 0.8095\n",
      "Epoch 36/50\n",
      "268/268 [==============================] - 2s 6ms/step - loss: 0.5372 - accuracy: 0.7223 - recall_11: 0.7191 - auc_11: 0.8004 - val_loss: 0.5334 - val_accuracy: 0.7253 - val_recall_11: 0.7392 - val_auc_11: 0.8098\n",
      "Epoch 37/50\n",
      "268/268 [==============================] - 2s 6ms/step - loss: 0.5342 - accuracy: 0.7244 - recall_11: 0.7273 - auc_11: 0.8021 - val_loss: 0.5327 - val_accuracy: 0.7229 - val_recall_11: 0.7344 - val_auc_11: 0.8104\n",
      "Epoch 38/50\n",
      "268/268 [==============================] - 2s 6ms/step - loss: 0.5345 - accuracy: 0.7237 - recall_11: 0.7275 - auc_11: 0.8021 - val_loss: 0.5320 - val_accuracy: 0.7219 - val_recall_11: 0.7323 - val_auc_11: 0.8109\n",
      "Epoch 39/50\n",
      "268/268 [==============================] - 2s 6ms/step - loss: 0.5335 - accuracy: 0.7264 - recall_11: 0.7262 - auc_11: 0.8028 - val_loss: 0.5320 - val_accuracy: 0.7226 - val_recall_11: 0.7337 - val_auc_11: 0.8115\n",
      "Epoch 40/50\n",
      "268/268 [==============================] - 2s 6ms/step - loss: 0.5352 - accuracy: 0.7266 - recall_11: 0.7228 - auc_11: 0.8012 - val_loss: 0.5318 - val_accuracy: 0.7230 - val_recall_11: 0.7346 - val_auc_11: 0.8118\n",
      "Epoch 41/50\n",
      "268/268 [==============================] - 2s 6ms/step - loss: 0.5337 - accuracy: 0.7248 - recall_11: 0.7238 - auc_11: 0.8023 - val_loss: 0.5316 - val_accuracy: 0.7229 - val_recall_11: 0.7378 - val_auc_11: 0.8123\n",
      "Epoch 42/50\n",
      "268/268 [==============================] - 2s 6ms/step - loss: 0.5328 - accuracy: 0.7282 - recall_11: 0.7277 - auc_11: 0.8043 - val_loss: 0.5310 - val_accuracy: 0.7237 - val_recall_11: 0.7360 - val_auc_11: 0.8124\n",
      "Epoch 43/50\n",
      "268/268 [==============================] - 1s 6ms/step - loss: 0.5317 - accuracy: 0.7281 - recall_11: 0.7273 - auc_11: 0.8043 - val_loss: 0.5309 - val_accuracy: 0.7236 - val_recall_11: 0.7358 - val_auc_11: 0.8129\n",
      "Epoch 44/50\n",
      "268/268 [==============================] - 1s 6ms/step - loss: 0.5302 - accuracy: 0.7309 - recall_11: 0.7299 - auc_11: 0.8069 - val_loss: 0.5303 - val_accuracy: 0.7248 - val_recall_11: 0.7381 - val_auc_11: 0.8136\n",
      "Epoch 45/50\n",
      "268/268 [==============================] - 1s 6ms/step - loss: 0.5299 - accuracy: 0.7288 - recall_11: 0.7254 - auc_11: 0.8062 - val_loss: 0.5296 - val_accuracy: 0.7239 - val_recall_11: 0.7364 - val_auc_11: 0.8139\n",
      "Epoch 46/50\n",
      "268/268 [==============================] - 1s 6ms/step - loss: 0.5307 - accuracy: 0.7268 - recall_11: 0.7245 - auc_11: 0.8057 - val_loss: 0.5291 - val_accuracy: 0.7234 - val_recall_11: 0.7353 - val_auc_11: 0.8143\n",
      "Epoch 47/50\n",
      "268/268 [==============================] - 2s 6ms/step - loss: 0.5314 - accuracy: 0.7287 - recall_11: 0.7246 - auc_11: 0.8049 - val_loss: 0.5290 - val_accuracy: 0.7247 - val_recall_11: 0.7379 - val_auc_11: 0.8148\n",
      "Epoch 48/50\n",
      "268/268 [==============================] - 1s 5ms/step - loss: 0.5301 - accuracy: 0.7277 - recall_11: 0.7277 - auc_11: 0.8063 - val_loss: 0.5285 - val_accuracy: 0.7234 - val_recall_11: 0.7353 - val_auc_11: 0.8152\n",
      "Epoch 49/50\n",
      "268/268 [==============================] - 1s 6ms/step - loss: 0.5284 - accuracy: 0.7292 - recall_11: 0.7240 - auc_11: 0.8069 - val_loss: 0.5283 - val_accuracy: 0.7242 - val_recall_11: 0.7371 - val_auc_11: 0.8155\n",
      "Epoch 50/50\n",
      "268/268 [==============================] - 1s 6ms/step - loss: 0.5282 - accuracy: 0.7313 - recall_11: 0.7273 - auc_11: 0.8070 - val_loss: 0.5279 - val_accuracy: 0.7233 - val_recall_11: 0.7351 - val_auc_11: 0.8156\n"
     ]
    },
    {
     "data": {
      "text/plain": [
       "<tensorflow.python.keras.callbacks.History at 0x141b1f53888>"
      ]
     },
     "execution_count": 218,
     "metadata": {},
     "output_type": "execute_result"
    }
   ],
   "source": [
    "model.fit(train_x,train_y,epochs=50,batch_size=128,validation_data=(valid_x,valid_y),verbose=1) #,class_weight=train_class_weight)"
   ]
  },
  {
   "cell_type": "code",
   "execution_count": 219,
   "metadata": {},
   "outputs": [
    {
     "name": "stdout",
     "output_type": "stream",
     "text": [
      "Epoch 1/50\n",
      "268/268 [==============================] - 2s 6ms/step - loss: 0.5302 - accuracy: 0.7265 - recall_11: 0.7221 - auc_11: 0.8058 - val_loss: 0.5269 - val_accuracy: 0.7221 - val_recall_11: 0.7328 - val_auc_11: 0.8161\n",
      "Epoch 2/50\n",
      "268/268 [==============================] - 2s 6ms/step - loss: 0.5262 - accuracy: 0.7308 - recall_11: 0.7265 - auc_11: 0.8094 - val_loss: 0.5266 - val_accuracy: 0.7224 - val_recall_11: 0.7334 - val_auc_11: 0.8166\n",
      "Epoch 3/50\n",
      "268/268 [==============================] - 2s 6ms/step - loss: 0.5269 - accuracy: 0.7323 - recall_11: 0.7276 - auc_11: 0.8089 - val_loss: 0.5263 - val_accuracy: 0.7259 - val_recall_11: 0.7404 - val_auc_11: 0.8171\n",
      "Epoch 4/50\n",
      "268/268 [==============================] - 2s 6ms/step - loss: 0.5273 - accuracy: 0.7309 - recall_11: 0.7281 - auc_11: 0.8084 - val_loss: 0.5258 - val_accuracy: 0.7253 - val_recall_11: 0.7392 - val_auc_11: 0.8176\n",
      "Epoch 5/50\n",
      "268/268 [==============================] - 1s 6ms/step - loss: 0.5236 - accuracy: 0.7316 - recall_11: 0.7278 - auc_11: 0.8117 - val_loss: 0.5260 - val_accuracy: 0.7254 - val_recall_11: 0.7427 - val_auc_11: 0.8176\n",
      "Epoch 6/50\n",
      "268/268 [==============================] - 1s 6ms/step - loss: 0.5248 - accuracy: 0.7324 - recall_11: 0.7276 - auc_11: 0.8107 - val_loss: 0.5253 - val_accuracy: 0.7249 - val_recall_11: 0.7383 - val_auc_11: 0.8182\n",
      "Epoch 7/50\n",
      "268/268 [==============================] - 2s 6ms/step - loss: 0.5224 - accuracy: 0.7344 - recall_11: 0.7299 - auc_11: 0.8128 - val_loss: 0.5246 - val_accuracy: 0.7243 - val_recall_11: 0.7372 - val_auc_11: 0.8188\n",
      "Epoch 8/50\n",
      "268/268 [==============================] - 1s 6ms/step - loss: 0.5226 - accuracy: 0.7341 - recall_11: 0.7279 - auc_11: 0.8124 - val_loss: 0.5238 - val_accuracy: 0.7233 - val_recall_11: 0.7351 - val_auc_11: 0.8191\n",
      "Epoch 9/50\n",
      "268/268 [==============================] - 1s 6ms/step - loss: 0.5234 - accuracy: 0.7343 - recall_11: 0.7286 - auc_11: 0.8116 - val_loss: 0.5236 - val_accuracy: 0.7226 - val_recall_11: 0.7337 - val_auc_11: 0.8198\n",
      "Epoch 10/50\n",
      "268/268 [==============================] - 2s 6ms/step - loss: 0.5236 - accuracy: 0.7350 - recall_11: 0.7261 - auc_11: 0.8122 - val_loss: 0.5235 - val_accuracy: 0.7248 - val_recall_11: 0.7381 - val_auc_11: 0.8200\n",
      "Epoch 11/50\n",
      "268/268 [==============================] - 2s 6ms/step - loss: 0.5214 - accuracy: 0.7351 - recall_11: 0.7295 - auc_11: 0.8133 - val_loss: 0.5229 - val_accuracy: 0.7267 - val_recall_11: 0.7379 - val_auc_11: 0.8204\n",
      "Epoch 12/50\n",
      "268/268 [==============================] - 2s 6ms/step - loss: 0.5204 - accuracy: 0.7363 - recall_11: 0.7316 - auc_11: 0.8141 - val_loss: 0.5226 - val_accuracy: 0.7258 - val_recall_11: 0.7402 - val_auc_11: 0.8211\n",
      "Epoch 13/50\n",
      "268/268 [==============================] - 2s 6ms/step - loss: 0.5216 - accuracy: 0.7354 - recall_11: 0.7280 - auc_11: 0.8139 - val_loss: 0.5218 - val_accuracy: 0.7267 - val_recall_11: 0.7420 - val_auc_11: 0.8214\n",
      "Epoch 14/50\n",
      "268/268 [==============================] - 2s 6ms/step - loss: 0.5211 - accuracy: 0.7351 - recall_11: 0.7296 - auc_11: 0.8140 - val_loss: 0.5214 - val_accuracy: 0.7263 - val_recall_11: 0.7371 - val_auc_11: 0.8217\n",
      "Epoch 15/50\n",
      "268/268 [==============================] - 2s 6ms/step - loss: 0.5210 - accuracy: 0.7333 - recall_11: 0.7272 - auc_11: 0.8137 - val_loss: 0.5214 - val_accuracy: 0.7291 - val_recall_11: 0.7427 - val_auc_11: 0.8224\n",
      "Epoch 16/50\n",
      "268/268 [==============================] - 2s 6ms/step - loss: 0.5189 - accuracy: 0.7373 - recall_11: 0.7310 - auc_11: 0.8162 - val_loss: 0.5206 - val_accuracy: 0.7292 - val_recall_11: 0.7386 - val_auc_11: 0.8226\n",
      "Epoch 17/50\n",
      "268/268 [==============================] - 1s 5ms/step - loss: 0.5180 - accuracy: 0.7379 - recall_11: 0.7351 - auc_11: 0.8168 - val_loss: 0.5204 - val_accuracy: 0.7314 - val_recall_11: 0.7390 - val_auc_11: 0.8231\n",
      "Epoch 18/50\n",
      "268/268 [==============================] - 1s 5ms/step - loss: 0.5175 - accuracy: 0.7377 - recall_11: 0.7305 - auc_11: 0.8165 - val_loss: 0.5199 - val_accuracy: 0.7320 - val_recall_11: 0.7400 - val_auc_11: 0.8233\n",
      "Epoch 19/50\n",
      "268/268 [==============================] - 1s 5ms/step - loss: 0.5176 - accuracy: 0.7401 - recall_11: 0.7337 - auc_11: 0.8168 - val_loss: 0.5191 - val_accuracy: 0.7322 - val_recall_11: 0.7376 - val_auc_11: 0.8240\n",
      "Epoch 20/50\n",
      "268/268 [==============================] - 1s 5ms/step - loss: 0.5169 - accuracy: 0.7376 - recall_11: 0.7328 - auc_11: 0.8177 - val_loss: 0.5190 - val_accuracy: 0.7322 - val_recall_11: 0.7406 - val_auc_11: 0.8243\n",
      "Epoch 21/50\n",
      "268/268 [==============================] - 1s 5ms/step - loss: 0.5171 - accuracy: 0.7366 - recall_11: 0.7262 - auc_11: 0.8179 - val_loss: 0.5182 - val_accuracy: 0.7313 - val_recall_11: 0.7386 - val_auc_11: 0.8250\n",
      "Epoch 22/50\n",
      "268/268 [==============================] - 1s 5ms/step - loss: 0.5156 - accuracy: 0.7379 - recall_11: 0.7277 - auc_11: 0.8190 - val_loss: 0.5181 - val_accuracy: 0.7341 - val_recall_11: 0.7443 - val_auc_11: 0.8254\n",
      "Epoch 23/50\n",
      "268/268 [==============================] - 1s 5ms/step - loss: 0.5133 - accuracy: 0.7400 - recall_11: 0.7341 - auc_11: 0.8208 - val_loss: 0.5172 - val_accuracy: 0.7357 - val_recall_11: 0.7474 - val_auc_11: 0.8259\n",
      "Epoch 24/50\n",
      "268/268 [==============================] - 1s 5ms/step - loss: 0.5136 - accuracy: 0.7411 - recall_11: 0.7362 - auc_11: 0.8204 - val_loss: 0.5166 - val_accuracy: 0.7339 - val_recall_11: 0.7378 - val_auc_11: 0.8265\n",
      "Epoch 25/50\n",
      "268/268 [==============================] - 1s 5ms/step - loss: 0.5126 - accuracy: 0.7395 - recall_11: 0.7296 - auc_11: 0.8212 - val_loss: 0.5169 - val_accuracy: 0.7349 - val_recall_11: 0.7460 - val_auc_11: 0.8266\n",
      "Epoch 26/50\n",
      "268/268 [==============================] - 2s 6ms/step - loss: 0.5136 - accuracy: 0.7425 - recall_11: 0.7354 - auc_11: 0.8209 - val_loss: 0.5162 - val_accuracy: 0.7361 - val_recall_11: 0.7421 - val_auc_11: 0.8274\n",
      "Epoch 27/50\n",
      "268/268 [==============================] - 2s 6ms/step - loss: 0.5133 - accuracy: 0.7408 - recall_11: 0.7320 - auc_11: 0.8213 - val_loss: 0.5156 - val_accuracy: 0.7359 - val_recall_11: 0.7418 - val_auc_11: 0.8278\n",
      "Epoch 28/50\n",
      "268/268 [==============================] - 1s 5ms/step - loss: 0.5103 - accuracy: 0.7430 - recall_11: 0.7334 - auc_11: 0.8234 - val_loss: 0.5148 - val_accuracy: 0.7373 - val_recall_11: 0.7379 - val_auc_11: 0.8285\n",
      "Epoch 29/50\n",
      "268/268 [==============================] - 1s 5ms/step - loss: 0.5118 - accuracy: 0.7427 - recall_11: 0.7340 - auc_11: 0.8226 - val_loss: 0.5144 - val_accuracy: 0.7356 - val_recall_11: 0.7416 - val_auc_11: 0.8290\n",
      "Epoch 30/50\n",
      "268/268 [==============================] - 1s 5ms/step - loss: 0.5098 - accuracy: 0.7459 - recall_11: 0.7354 - auc_11: 0.8242 - val_loss: 0.5144 - val_accuracy: 0.7365 - val_recall_11: 0.7469 - val_auc_11: 0.8291\n",
      "Epoch 31/50\n",
      "268/268 [==============================] - 1s 5ms/step - loss: 0.5098 - accuracy: 0.7454 - recall_11: 0.7396 - auc_11: 0.8243 - val_loss: 0.5134 - val_accuracy: 0.7359 - val_recall_11: 0.7423 - val_auc_11: 0.8300\n",
      "Epoch 32/50\n",
      "268/268 [==============================] - 1s 5ms/step - loss: 0.5084 - accuracy: 0.7452 - recall_11: 0.7365 - auc_11: 0.8249 - val_loss: 0.5129 - val_accuracy: 0.7360 - val_recall_11: 0.7425 - val_auc_11: 0.8304\n",
      "Epoch 33/50\n",
      "268/268 [==============================] - 1s 5ms/step - loss: 0.5097 - accuracy: 0.7452 - recall_11: 0.7372 - auc_11: 0.8245 - val_loss: 0.5124 - val_accuracy: 0.7386 - val_recall_11: 0.7413 - val_auc_11: 0.8309\n",
      "Epoch 34/50\n",
      "268/268 [==============================] - 1s 5ms/step - loss: 0.5093 - accuracy: 0.7439 - recall_11: 0.7331 - auc_11: 0.8249 - val_loss: 0.5122 - val_accuracy: 0.7383 - val_recall_11: 0.7439 - val_auc_11: 0.8314\n",
      "Epoch 35/50\n",
      "268/268 [==============================] - 1s 5ms/step - loss: 0.5080 - accuracy: 0.7449 - recall_11: 0.7382 - auc_11: 0.8253 - val_loss: 0.5111 - val_accuracy: 0.7398 - val_recall_11: 0.7435 - val_auc_11: 0.8316\n",
      "Epoch 36/50\n",
      "268/268 [==============================] - 2s 6ms/step - loss: 0.5055 - accuracy: 0.7481 - recall_11: 0.7377 - auc_11: 0.8277 - val_loss: 0.5109 - val_accuracy: 0.7405 - val_recall_11: 0.7450 - val_auc_11: 0.8323\n",
      "Epoch 37/50\n",
      "268/268 [==============================] - 2s 6ms/step - loss: 0.5062 - accuracy: 0.7486 - recall_11: 0.7402 - auc_11: 0.8272 - val_loss: 0.5106 - val_accuracy: 0.7393 - val_recall_11: 0.7455 - val_auc_11: 0.8330\n",
      "Epoch 38/50\n",
      "268/268 [==============================] - 1s 5ms/step - loss: 0.5067 - accuracy: 0.7480 - recall_11: 0.7429 - auc_11: 0.8268 - val_loss: 0.5099 - val_accuracy: 0.7407 - val_recall_11: 0.7430 - val_auc_11: 0.8336\n",
      "Epoch 39/50\n",
      "268/268 [==============================] - 1s 5ms/step - loss: 0.5064 - accuracy: 0.7473 - recall_11: 0.7413 - auc_11: 0.8270 - val_loss: 0.5097 - val_accuracy: 0.7399 - val_recall_11: 0.7443 - val_auc_11: 0.8340\n",
      "Epoch 40/50\n",
      "268/268 [==============================] - 1s 5ms/step - loss: 0.5057 - accuracy: 0.7490 - recall_11: 0.7419 - auc_11: 0.8280 - val_loss: 0.5092 - val_accuracy: 0.7393 - val_recall_11: 0.7488 - val_auc_11: 0.8346\n",
      "Epoch 41/50\n",
      "268/268 [==============================] - 1s 5ms/step - loss: 0.5048 - accuracy: 0.7504 - recall_11: 0.7422 - auc_11: 0.8287 - val_loss: 0.5084 - val_accuracy: 0.7432 - val_recall_11: 0.7465 - val_auc_11: 0.8352\n",
      "Epoch 42/50\n",
      "268/268 [==============================] - 1s 5ms/step - loss: 0.5034 - accuracy: 0.7486 - recall_11: 0.7386 - auc_11: 0.8296 - val_loss: 0.5077 - val_accuracy: 0.7425 - val_recall_11: 0.7451 - val_auc_11: 0.8358\n",
      "Epoch 43/50\n",
      "268/268 [==============================] - 1s 5ms/step - loss: 0.5025 - accuracy: 0.7500 - recall_11: 0.7394 - auc_11: 0.8300 - val_loss: 0.5072 - val_accuracy: 0.7430 - val_recall_11: 0.7462 - val_auc_11: 0.8361\n",
      "Epoch 44/50\n",
      "268/268 [==============================] - 1s 5ms/step - loss: 0.5031 - accuracy: 0.7494 - recall_11: 0.7415 - auc_11: 0.8299 - val_loss: 0.5069 - val_accuracy: 0.7428 - val_recall_11: 0.7458 - val_auc_11: 0.8370\n",
      "Epoch 45/50\n",
      "268/268 [==============================] - 1s 5ms/step - loss: 0.5022 - accuracy: 0.7513 - recall_11: 0.7445 - auc_11: 0.8310 - val_loss: 0.5066 - val_accuracy: 0.7455 - val_recall_11: 0.7511 - val_auc_11: 0.8373\n",
      "Epoch 46/50\n",
      "268/268 [==============================] - 1s 5ms/step - loss: 0.5028 - accuracy: 0.7503 - recall_11: 0.7431 - auc_11: 0.8305 - val_loss: 0.5056 - val_accuracy: 0.7455 - val_recall_11: 0.7511 - val_auc_11: 0.8378\n",
      "Epoch 47/50\n",
      "268/268 [==============================] - 1s 5ms/step - loss: 0.5032 - accuracy: 0.7491 - recall_11: 0.7399 - auc_11: 0.8305 - val_loss: 0.5054 - val_accuracy: 0.7444 - val_recall_11: 0.7490 - val_auc_11: 0.8382\n",
      "Epoch 48/50\n",
      "268/268 [==============================] - 1s 5ms/step - loss: 0.4992 - accuracy: 0.7538 - recall_11: 0.7452 - auc_11: 0.8330 - val_loss: 0.5047 - val_accuracy: 0.7465 - val_recall_11: 0.7532 - val_auc_11: 0.8389\n",
      "Epoch 49/50\n",
      "268/268 [==============================] - 1s 6ms/step - loss: 0.4988 - accuracy: 0.7529 - recall_11: 0.7488 - auc_11: 0.8340 - val_loss: 0.5034 - val_accuracy: 0.7412 - val_recall_11: 0.7425 - val_auc_11: 0.8396\n",
      "Epoch 50/50\n",
      "268/268 [==============================] - 1s 5ms/step - loss: 0.4995 - accuracy: 0.7526 - recall_11: 0.7419 - auc_11: 0.8330 - val_loss: 0.5031 - val_accuracy: 0.7457 - val_recall_11: 0.7514 - val_auc_11: 0.8401\n"
     ]
    },
    {
     "data": {
      "text/plain": [
       "<tensorflow.python.keras.callbacks.History at 0x141b9285b08>"
      ]
     },
     "execution_count": 219,
     "metadata": {},
     "output_type": "execute_result"
    }
   ],
   "source": [
    "model.fit(train_x,train_y,epochs=50,batch_size=128,validation_data=(valid_x,valid_y),verbose=1) #,class_weight=train_class_weight)"
   ]
  },
  {
   "cell_type": "code",
   "execution_count": 209,
   "metadata": {},
   "outputs": [],
   "source": [
    "# model.predict_classes(valid_x)\n",
    "preds = (model.predict(valid_x) > 0.5).astype(\"int32\").flatten()"
   ]
  },
  {
   "cell_type": "code",
   "execution_count": 210,
   "metadata": {},
   "outputs": [
    {
     "data": {
      "text/plain": [
       "0.8665964542741794"
      ]
     },
     "execution_count": 210,
     "metadata": {},
     "output_type": "execute_result"
    }
   ],
   "source": [
    "eval_metric(valid_y,preds)"
   ]
  },
  {
   "cell_type": "code",
   "execution_count": 211,
   "metadata": {},
   "outputs": [],
   "source": [
    "preds = (model.predict(test_df_1) > 0.5).astype(\"int32\").flatten()"
   ]
  },
  {
   "cell_type": "code",
   "execution_count": 212,
   "metadata": {},
   "outputs": [],
   "source": [
    "sub['MULTIPLE_OFFENSE'] = preds\n"
   ]
  },
  {
   "cell_type": "code",
   "execution_count": 213,
   "metadata": {},
   "outputs": [],
   "source": [
    "sub.to_csv('tmp.csv',index=False)"
   ]
  },
  {
   "cell_type": "code",
   "execution_count": 221,
   "metadata": {},
   "outputs": [],
   "source": [
    "from sklearn.preprocessing import PolynomialFeatures"
   ]
  },
  {
   "cell_type": "code",
   "execution_count": 223,
   "metadata": {},
   "outputs": [],
   "source": [
    "second_order = PolynomialFeatures(degree=2)\n",
    "\n",
    "\n",
    "\n",
    "target_feature_names = ['x'.join(['{}^{}'.format(pair[0],pair[1]) for pair in tuple if pair[1]!=0]) for tuple in [zip(input_df.columns,p) for p in poly.powers_]]\n",
    "output_df = pd.DataFrame(output_nparray, columns = target_feature_names)"
   ]
  }
 ],
 "metadata": {
  "kernelspec": {
   "display_name": "Python (tensorflow)",
   "language": "python",
   "name": "tensorflow"
  },
  "language_info": {
   "codemirror_mode": {
    "name": "ipython",
    "version": 3
   },
   "file_extension": ".py",
   "mimetype": "text/x-python",
   "name": "python",
   "nbconvert_exporter": "python",
   "pygments_lexer": "ipython3",
   "version": "3.7.5"
  }
 },
 "nbformat": 4,
 "nbformat_minor": 4
}
